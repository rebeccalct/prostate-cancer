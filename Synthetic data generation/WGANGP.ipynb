{
 "cells": [
  {
   "cell_type": "code",
   "execution_count": 2,
   "metadata": {},
   "outputs": [],
   "source": [
    "import os\n",
    "os.chdir(\"C:/Users/27261/Desktop/prostate/code-0126\")\n",
    "import numpy as np\n",
    "from sklearn.preprocessing import LabelEncoder, OneHotEncoder\n",
    "from numpy import asarray\n",
    "from sklearn.model_selection import train_test_split\n",
    "from sklearn.preprocessing import StandardScaler\n",
    "import pandas as pd\n",
    "import matplotlib.pyplot as plt\n",
    "\n",
    "import sys\n",
    "sys.path.append('PREPROCESSING')\n",
    "from preprocessing import DataPreProcessor\n"
   ]
  },
  {
   "cell_type": "code",
   "execution_count": 3,
   "metadata": {},
   "outputs": [],
   "source": [
    "from ydata_synthetic.synthesizers.regular import RegularSynthesizer\n",
    "from ydata_synthetic.synthesizers import ModelParameters, TrainParameters"
   ]
  },
  {
   "cell_type": "code",
   "execution_count": 6,
   "metadata": {},
   "outputs": [],
   "source": [
    "TRAIN_FILE = 'Dataset_cedric/Train.csv'\n",
    "SYNTHETIC_FILE = 'Dataset_cedric/SYNTHETIC DATASETS/WGANGP-2.csv'"
   ]
  },
  {
   "cell_type": "markdown",
   "metadata": {},
   "source": [
    "## Data Preprocessing"
   ]
  },
  {
   "cell_type": "code",
   "execution_count": 7,
   "metadata": {},
   "outputs": [
    {
     "data": {
      "text/html": [
       "<div>\n",
       "<style scoped>\n",
       "    .dataframe tbody tr th:only-of-type {\n",
       "        vertical-align: middle;\n",
       "    }\n",
       "\n",
       "    .dataframe tbody tr th {\n",
       "        vertical-align: top;\n",
       "    }\n",
       "\n",
       "    .dataframe thead th {\n",
       "        text-align: right;\n",
       "    }\n",
       "</style>\n",
       "<table border=\"1\" class=\"dataframe\">\n",
       "  <thead>\n",
       "    <tr style=\"text-align: right;\">\n",
       "      <th></th>\n",
       "      <th>eadnr (I)</th>\n",
       "      <th>Age</th>\n",
       "      <th>Multifocaal</th>\n",
       "      <th>1c (0) - Perifeer (1) -  Beide (2) - Transitie (3)</th>\n",
       "      <th>Preoperatief PSA</th>\n",
       "      <th>Aantal zones positive percentage</th>\n",
       "      <th>Primaire Gleason</th>\n",
       "      <th>Secundaire Gleason</th>\n",
       "      <th>Grade group (highest)</th>\n",
       "      <th>Target biopsie Core length (perc)</th>\n",
       "      <th>...</th>\n",
       "      <th>Grootste diameter (percentage of tumor)</th>\n",
       "      <th>Grootste mm aantasting (mms)</th>\n",
       "      <th>Primaire</th>\n",
       "      <th>Secundaire</th>\n",
       "      <th>Grade group Grootste mm aantasting</th>\n",
       "      <th>Primaire Gleason.1</th>\n",
       "      <th>Secundaire Gleason.1</th>\n",
       "      <th>Grade Group</th>\n",
       "      <th>pN</th>\n",
       "      <th>cT(MRI)</th>\n",
       "    </tr>\n",
       "  </thead>\n",
       "  <tbody>\n",
       "    <tr>\n",
       "      <th>0</th>\n",
       "      <td>74911959</td>\n",
       "      <td>60.254795</td>\n",
       "      <td>0</td>\n",
       "      <td>3</td>\n",
       "      <td>1.90</td>\n",
       "      <td>0.300000</td>\n",
       "      <td>3</td>\n",
       "      <td>4</td>\n",
       "      <td>2</td>\n",
       "      <td>20.0</td>\n",
       "      <td>...</td>\n",
       "      <td>20.0</td>\n",
       "      <td>4.0</td>\n",
       "      <td>3</td>\n",
       "      <td>4</td>\n",
       "      <td>2</td>\n",
       "      <td>3</td>\n",
       "      <td>3</td>\n",
       "      <td>1</td>\n",
       "      <td>0</td>\n",
       "      <td>1</td>\n",
       "    </tr>\n",
       "    <tr>\n",
       "      <th>1</th>\n",
       "      <td>72364086</td>\n",
       "      <td>66.391781</td>\n",
       "      <td>1</td>\n",
       "      <td>3</td>\n",
       "      <td>4.02</td>\n",
       "      <td>0.300000</td>\n",
       "      <td>4</td>\n",
       "      <td>3</td>\n",
       "      <td>3</td>\n",
       "      <td>8.0</td>\n",
       "      <td>...</td>\n",
       "      <td>87.0</td>\n",
       "      <td>7.0</td>\n",
       "      <td>3</td>\n",
       "      <td>3</td>\n",
       "      <td>1</td>\n",
       "      <td>3</td>\n",
       "      <td>3</td>\n",
       "      <td>1</td>\n",
       "      <td>0</td>\n",
       "      <td>1</td>\n",
       "    </tr>\n",
       "    <tr>\n",
       "      <th>2</th>\n",
       "      <td>72845225</td>\n",
       "      <td>69.010959</td>\n",
       "      <td>0</td>\n",
       "      <td>1</td>\n",
       "      <td>4.60</td>\n",
       "      <td>0.250000</td>\n",
       "      <td>4</td>\n",
       "      <td>4</td>\n",
       "      <td>4</td>\n",
       "      <td>17.0</td>\n",
       "      <td>...</td>\n",
       "      <td>17.0</td>\n",
       "      <td>2.0</td>\n",
       "      <td>4</td>\n",
       "      <td>4</td>\n",
       "      <td>4</td>\n",
       "      <td>4</td>\n",
       "      <td>3</td>\n",
       "      <td>3</td>\n",
       "      <td>0</td>\n",
       "      <td>4</td>\n",
       "    </tr>\n",
       "    <tr>\n",
       "      <th>3</th>\n",
       "      <td>65384463</td>\n",
       "      <td>41.136986</td>\n",
       "      <td>0</td>\n",
       "      <td>3</td>\n",
       "      <td>5.00</td>\n",
       "      <td>0.666667</td>\n",
       "      <td>3</td>\n",
       "      <td>4</td>\n",
       "      <td>2</td>\n",
       "      <td>46.0</td>\n",
       "      <td>...</td>\n",
       "      <td>46.0</td>\n",
       "      <td>6.0</td>\n",
       "      <td>3</td>\n",
       "      <td>4</td>\n",
       "      <td>2</td>\n",
       "      <td>3</td>\n",
       "      <td>4</td>\n",
       "      <td>2</td>\n",
       "      <td>0</td>\n",
       "      <td>1</td>\n",
       "    </tr>\n",
       "    <tr>\n",
       "      <th>4</th>\n",
       "      <td>83257287</td>\n",
       "      <td>74.665753</td>\n",
       "      <td>0</td>\n",
       "      <td>1</td>\n",
       "      <td>10.90</td>\n",
       "      <td>1.000000</td>\n",
       "      <td>4</td>\n",
       "      <td>5</td>\n",
       "      <td>5</td>\n",
       "      <td>100.0</td>\n",
       "      <td>...</td>\n",
       "      <td>100.0</td>\n",
       "      <td>17.0</td>\n",
       "      <td>4</td>\n",
       "      <td>5</td>\n",
       "      <td>5</td>\n",
       "      <td>4</td>\n",
       "      <td>5</td>\n",
       "      <td>5</td>\n",
       "      <td>0</td>\n",
       "      <td>4</td>\n",
       "    </tr>\n",
       "    <tr>\n",
       "      <th>...</th>\n",
       "      <td>...</td>\n",
       "      <td>...</td>\n",
       "      <td>...</td>\n",
       "      <td>...</td>\n",
       "      <td>...</td>\n",
       "      <td>...</td>\n",
       "      <td>...</td>\n",
       "      <td>...</td>\n",
       "      <td>...</td>\n",
       "      <td>...</td>\n",
       "      <td>...</td>\n",
       "      <td>...</td>\n",
       "      <td>...</td>\n",
       "      <td>...</td>\n",
       "      <td>...</td>\n",
       "      <td>...</td>\n",
       "      <td>...</td>\n",
       "      <td>...</td>\n",
       "      <td>...</td>\n",
       "      <td>...</td>\n",
       "      <td>...</td>\n",
       "    </tr>\n",
       "    <tr>\n",
       "      <th>228</th>\n",
       "      <td>77679900</td>\n",
       "      <td>68.350685</td>\n",
       "      <td>0</td>\n",
       "      <td>1</td>\n",
       "      <td>4.91</td>\n",
       "      <td>0.500000</td>\n",
       "      <td>4</td>\n",
       "      <td>5</td>\n",
       "      <td>5</td>\n",
       "      <td>30.0</td>\n",
       "      <td>...</td>\n",
       "      <td>30.0</td>\n",
       "      <td>4.0</td>\n",
       "      <td>4</td>\n",
       "      <td>4</td>\n",
       "      <td>4</td>\n",
       "      <td>4</td>\n",
       "      <td>3</td>\n",
       "      <td>3</td>\n",
       "      <td>1</td>\n",
       "      <td>4</td>\n",
       "    </tr>\n",
       "    <tr>\n",
       "      <th>229</th>\n",
       "      <td>70544747</td>\n",
       "      <td>73.531507</td>\n",
       "      <td>0</td>\n",
       "      <td>1</td>\n",
       "      <td>9.70</td>\n",
       "      <td>1.000000</td>\n",
       "      <td>4</td>\n",
       "      <td>3</td>\n",
       "      <td>3</td>\n",
       "      <td>31.0</td>\n",
       "      <td>...</td>\n",
       "      <td>31.0</td>\n",
       "      <td>4.0</td>\n",
       "      <td>3</td>\n",
       "      <td>4</td>\n",
       "      <td>2</td>\n",
       "      <td>3</td>\n",
       "      <td>4</td>\n",
       "      <td>2</td>\n",
       "      <td>0</td>\n",
       "      <td>4</td>\n",
       "    </tr>\n",
       "    <tr>\n",
       "      <th>230</th>\n",
       "      <td>88824362</td>\n",
       "      <td>65.734247</td>\n",
       "      <td>0</td>\n",
       "      <td>1</td>\n",
       "      <td>10.30</td>\n",
       "      <td>1.000000</td>\n",
       "      <td>4</td>\n",
       "      <td>3</td>\n",
       "      <td>3</td>\n",
       "      <td>83.0</td>\n",
       "      <td>...</td>\n",
       "      <td>83.0</td>\n",
       "      <td>10.0</td>\n",
       "      <td>4</td>\n",
       "      <td>3</td>\n",
       "      <td>3</td>\n",
       "      <td>4</td>\n",
       "      <td>3</td>\n",
       "      <td>3</td>\n",
       "      <td>0</td>\n",
       "      <td>4</td>\n",
       "    </tr>\n",
       "    <tr>\n",
       "      <th>231</th>\n",
       "      <td>61072681</td>\n",
       "      <td>60.189041</td>\n",
       "      <td>0</td>\n",
       "      <td>1</td>\n",
       "      <td>10.80</td>\n",
       "      <td>0.200000</td>\n",
       "      <td>3</td>\n",
       "      <td>3</td>\n",
       "      <td>1</td>\n",
       "      <td>30.0</td>\n",
       "      <td>...</td>\n",
       "      <td>30.0</td>\n",
       "      <td>4.5</td>\n",
       "      <td>3</td>\n",
       "      <td>3</td>\n",
       "      <td>1</td>\n",
       "      <td>3</td>\n",
       "      <td>3</td>\n",
       "      <td>1</td>\n",
       "      <td>0</td>\n",
       "      <td>4</td>\n",
       "    </tr>\n",
       "    <tr>\n",
       "      <th>232</th>\n",
       "      <td>89901847</td>\n",
       "      <td>69.282192</td>\n",
       "      <td>1</td>\n",
       "      <td>2</td>\n",
       "      <td>7.70</td>\n",
       "      <td>0.727273</td>\n",
       "      <td>3</td>\n",
       "      <td>4</td>\n",
       "      <td>2</td>\n",
       "      <td>93.0</td>\n",
       "      <td>...</td>\n",
       "      <td>93.0</td>\n",
       "      <td>14.0</td>\n",
       "      <td>3</td>\n",
       "      <td>4</td>\n",
       "      <td>2</td>\n",
       "      <td>3</td>\n",
       "      <td>4</td>\n",
       "      <td>2</td>\n",
       "      <td>0</td>\n",
       "      <td>5</td>\n",
       "    </tr>\n",
       "  </tbody>\n",
       "</table>\n",
       "<p>233 rows × 35 columns</p>\n",
       "</div>"
      ],
      "text/plain": [
       "     eadnr (I)        Age Multifocaal  \\\n",
       "0     74911959  60.254795           0   \n",
       "1     72364086  66.391781           1   \n",
       "2     72845225  69.010959           0   \n",
       "3     65384463  41.136986           0   \n",
       "4     83257287  74.665753           0   \n",
       "..         ...        ...         ...   \n",
       "228   77679900  68.350685           0   \n",
       "229   70544747  73.531507           0   \n",
       "230   88824362  65.734247           0   \n",
       "231   61072681  60.189041           0   \n",
       "232   89901847  69.282192           1   \n",
       "\n",
       "    1c (0) - Perifeer (1) -  Beide (2) - Transitie (3)  Preoperatief PSA  \\\n",
       "0                                                    3              1.90   \n",
       "1                                                    3              4.02   \n",
       "2                                                    1              4.60   \n",
       "3                                                    3              5.00   \n",
       "4                                                    1             10.90   \n",
       "..                                                 ...               ...   \n",
       "228                                                  1              4.91   \n",
       "229                                                  1              9.70   \n",
       "230                                                  1             10.30   \n",
       "231                                                  1             10.80   \n",
       "232                                                  2              7.70   \n",
       "\n",
       "     Aantal zones positive percentage  Primaire Gleason  Secundaire Gleason  \\\n",
       "0                            0.300000                 3                   4   \n",
       "1                            0.300000                 4                   3   \n",
       "2                            0.250000                 4                   4   \n",
       "3                            0.666667                 3                   4   \n",
       "4                            1.000000                 4                   5   \n",
       "..                                ...               ...                 ...   \n",
       "228                          0.500000                 4                   5   \n",
       "229                          1.000000                 4                   3   \n",
       "230                          1.000000                 4                   3   \n",
       "231                          0.200000                 3                   3   \n",
       "232                          0.727273                 3                   4   \n",
       "\n",
       "     Grade group (highest)  Target biopsie Core length (perc)  ...  \\\n",
       "0                        2                               20.0  ...   \n",
       "1                        3                                8.0  ...   \n",
       "2                        4                               17.0  ...   \n",
       "3                        2                               46.0  ...   \n",
       "4                        5                              100.0  ...   \n",
       "..                     ...                                ...  ...   \n",
       "228                      5                               30.0  ...   \n",
       "229                      3                               31.0  ...   \n",
       "230                      3                               83.0  ...   \n",
       "231                      1                               30.0  ...   \n",
       "232                      2                               93.0  ...   \n",
       "\n",
       "     Grootste diameter (percentage of tumor)  Grootste mm aantasting (mms)  \\\n",
       "0                                       20.0                           4.0   \n",
       "1                                       87.0                           7.0   \n",
       "2                                       17.0                           2.0   \n",
       "3                                       46.0                           6.0   \n",
       "4                                      100.0                          17.0   \n",
       "..                                       ...                           ...   \n",
       "228                                     30.0                           4.0   \n",
       "229                                     31.0                           4.0   \n",
       "230                                     83.0                          10.0   \n",
       "231                                     30.0                           4.5   \n",
       "232                                     93.0                          14.0   \n",
       "\n",
       "     Primaire  Secundaire  Grade group Grootste mm aantasting  \\\n",
       "0           3           4                                   2   \n",
       "1           3           3                                   1   \n",
       "2           4           4                                   4   \n",
       "3           3           4                                   2   \n",
       "4           4           5                                   5   \n",
       "..        ...         ...                                 ...   \n",
       "228         4           4                                   4   \n",
       "229         3           4                                   2   \n",
       "230         4           3                                   3   \n",
       "231         3           3                                   1   \n",
       "232         3           4                                   2   \n",
       "\n",
       "     Primaire Gleason.1  Secundaire Gleason.1  Grade Group  pN  cT(MRI)  \n",
       "0                     3                     3            1   0        1  \n",
       "1                     3                     3            1   0        1  \n",
       "2                     4                     3            3   0        4  \n",
       "3                     3                     4            2   0        1  \n",
       "4                     4                     5            5   0        4  \n",
       "..                  ...                   ...          ...  ..      ...  \n",
       "228                   4                     3            3   1        4  \n",
       "229                   3                     4            2   0        4  \n",
       "230                   4                     3            3   0        4  \n",
       "231                   3                     3            1   0        4  \n",
       "232                   3                     4            2   0        5  \n",
       "\n",
       "[233 rows x 35 columns]"
      ]
     },
     "execution_count": 7,
     "metadata": {},
     "output_type": "execute_result"
    }
   ],
   "source": [
    "import pandas as pd\n",
    "real_data = pd.read_csv(TRAIN_FILE)\n",
    "categorical_columns = [\"cT(MRI)\",\"Multifocaal\", \"pN\", \"1c (0) - Perifeer (1) -  Beide (2) - Transitie (3)\"]\n",
    "for col in categorical_columns :\n",
    "    real_data[col] = real_data[col].astype('category')\n",
    "data_cols = real_data.columns\n",
    "data_train = real_data\n",
    "real_data"
   ]
  },
  {
   "cell_type": "code",
   "execution_count": 5,
   "metadata": {},
   "outputs": [
    {
     "data": {
      "text/html": [
       "<div>\n",
       "<style scoped>\n",
       "    .dataframe tbody tr th:only-of-type {\n",
       "        vertical-align: middle;\n",
       "    }\n",
       "\n",
       "    .dataframe tbody tr th {\n",
       "        vertical-align: top;\n",
       "    }\n",
       "\n",
       "    .dataframe thead th {\n",
       "        text-align: right;\n",
       "    }\n",
       "</style>\n",
       "<table border=\"1\" class=\"dataframe\">\n",
       "  <thead>\n",
       "    <tr style=\"text-align: right;\">\n",
       "      <th></th>\n",
       "      <th>eadnr (I)</th>\n",
       "      <th>Age</th>\n",
       "      <th>Preoperatief PSA</th>\n",
       "      <th>Aantal zones positive percentage</th>\n",
       "      <th>Primaire Gleason</th>\n",
       "      <th>Secundaire Gleason</th>\n",
       "      <th>Grade group (highest)</th>\n",
       "      <th>Target biopsie Core length (perc)</th>\n",
       "      <th>Target biopsie Core length (mm)</th>\n",
       "      <th>TargetBiopsie Primaire Gleason</th>\n",
       "      <th>...</th>\n",
       "      <th>1c (0) - Perifeer (1) -  Beide (2) - Transitie (3)3</th>\n",
       "      <th>pN0</th>\n",
       "      <th>pN1</th>\n",
       "      <th>cT(MRI)0</th>\n",
       "      <th>cT(MRI)1</th>\n",
       "      <th>cT(MRI)2</th>\n",
       "      <th>cT(MRI)3</th>\n",
       "      <th>cT(MRI)4</th>\n",
       "      <th>cT(MRI)5</th>\n",
       "      <th>cT(MRI)6</th>\n",
       "    </tr>\n",
       "  </thead>\n",
       "  <tbody>\n",
       "    <tr>\n",
       "      <th>0</th>\n",
       "      <td>-0.119254</td>\n",
       "      <td>-0.684315</td>\n",
       "      <td>-0.599760</td>\n",
       "      <td>-0.931759</td>\n",
       "      <td>-1.063491</td>\n",
       "      <td>0.207716</td>\n",
       "      <td>-0.940279</td>\n",
       "      <td>-1.703472</td>\n",
       "      <td>-1.085829</td>\n",
       "      <td>-1.094205</td>\n",
       "      <td>...</td>\n",
       "      <td>1.913113</td>\n",
       "      <td>0.420437</td>\n",
       "      <td>-0.420437</td>\n",
       "      <td>-0.132164</td>\n",
       "      <td>1.660742</td>\n",
       "      <td>-0.065653</td>\n",
       "      <td>-0.346688</td>\n",
       "      <td>-0.962091</td>\n",
       "      <td>-0.322902</td>\n",
       "      <td>-0.175993</td>\n",
       "    </tr>\n",
       "    <tr>\n",
       "      <th>1</th>\n",
       "      <td>-0.388239</td>\n",
       "      <td>0.259867</td>\n",
       "      <td>-0.462666</td>\n",
       "      <td>-0.931759</td>\n",
       "      <td>0.732113</td>\n",
       "      <td>-1.258883</td>\n",
       "      <td>-0.046054</td>\n",
       "      <td>-2.152475</td>\n",
       "      <td>-1.887301</td>\n",
       "      <td>0.753257</td>\n",
       "      <td>...</td>\n",
       "      <td>1.913113</td>\n",
       "      <td>0.420437</td>\n",
       "      <td>-0.420437</td>\n",
       "      <td>-0.132164</td>\n",
       "      <td>1.660742</td>\n",
       "      <td>-0.065653</td>\n",
       "      <td>-0.346688</td>\n",
       "      <td>-0.962091</td>\n",
       "      <td>-0.322902</td>\n",
       "      <td>-0.175993</td>\n",
       "    </tr>\n",
       "    <tr>\n",
       "      <th>2</th>\n",
       "      <td>-0.337444</td>\n",
       "      <td>0.662830</td>\n",
       "      <td>-0.425159</td>\n",
       "      <td>-1.096944</td>\n",
       "      <td>0.732113</td>\n",
       "      <td>0.207716</td>\n",
       "      <td>0.848170</td>\n",
       "      <td>-1.815722</td>\n",
       "      <td>-1.620144</td>\n",
       "      <td>0.753257</td>\n",
       "      <td>...</td>\n",
       "      <td>-0.522708</td>\n",
       "      <td>0.420437</td>\n",
       "      <td>-0.420437</td>\n",
       "      <td>-0.132164</td>\n",
       "      <td>-0.602140</td>\n",
       "      <td>-0.065653</td>\n",
       "      <td>-0.346688</td>\n",
       "      <td>1.039402</td>\n",
       "      <td>-0.322902</td>\n",
       "      <td>-0.175993</td>\n",
       "    </tr>\n",
       "    <tr>\n",
       "      <th>3</th>\n",
       "      <td>-1.125094</td>\n",
       "      <td>-3.625609</td>\n",
       "      <td>-0.399292</td>\n",
       "      <td>0.279596</td>\n",
       "      <td>-1.063491</td>\n",
       "      <td>0.207716</td>\n",
       "      <td>-0.940279</td>\n",
       "      <td>-0.730631</td>\n",
       "      <td>-0.551514</td>\n",
       "      <td>-1.094205</td>\n",
       "      <td>...</td>\n",
       "      <td>1.913113</td>\n",
       "      <td>0.420437</td>\n",
       "      <td>-0.420437</td>\n",
       "      <td>-0.132164</td>\n",
       "      <td>1.660742</td>\n",
       "      <td>-0.065653</td>\n",
       "      <td>-0.346688</td>\n",
       "      <td>-0.962091</td>\n",
       "      <td>-0.322902</td>\n",
       "      <td>-0.175993</td>\n",
       "    </tr>\n",
       "    <tr>\n",
       "      <th>4</th>\n",
       "      <td>0.761782</td>\n",
       "      <td>1.532826</td>\n",
       "      <td>-0.017757</td>\n",
       "      <td>1.380828</td>\n",
       "      <td>0.732113</td>\n",
       "      <td>1.674314</td>\n",
       "      <td>1.742395</td>\n",
       "      <td>1.289884</td>\n",
       "      <td>2.387218</td>\n",
       "      <td>0.753257</td>\n",
       "      <td>...</td>\n",
       "      <td>-0.522708</td>\n",
       "      <td>0.420437</td>\n",
       "      <td>-0.420437</td>\n",
       "      <td>-0.132164</td>\n",
       "      <td>-0.602140</td>\n",
       "      <td>-0.065653</td>\n",
       "      <td>-0.346688</td>\n",
       "      <td>1.039402</td>\n",
       "      <td>-0.322902</td>\n",
       "      <td>-0.175993</td>\n",
       "    </tr>\n",
       "    <tr>\n",
       "      <th>...</th>\n",
       "      <td>...</td>\n",
       "      <td>...</td>\n",
       "      <td>...</td>\n",
       "      <td>...</td>\n",
       "      <td>...</td>\n",
       "      <td>...</td>\n",
       "      <td>...</td>\n",
       "      <td>...</td>\n",
       "      <td>...</td>\n",
       "      <td>...</td>\n",
       "      <td>...</td>\n",
       "      <td>...</td>\n",
       "      <td>...</td>\n",
       "      <td>...</td>\n",
       "      <td>...</td>\n",
       "      <td>...</td>\n",
       "      <td>...</td>\n",
       "      <td>...</td>\n",
       "      <td>...</td>\n",
       "      <td>...</td>\n",
       "      <td>...</td>\n",
       "    </tr>\n",
       "    <tr>\n",
       "      <th>228</th>\n",
       "      <td>0.172964</td>\n",
       "      <td>0.561247</td>\n",
       "      <td>-0.405112</td>\n",
       "      <td>-0.271020</td>\n",
       "      <td>0.732113</td>\n",
       "      <td>1.674314</td>\n",
       "      <td>1.742395</td>\n",
       "      <td>-1.329302</td>\n",
       "      <td>-1.352986</td>\n",
       "      <td>0.753257</td>\n",
       "      <td>...</td>\n",
       "      <td>-0.522708</td>\n",
       "      <td>-2.378475</td>\n",
       "      <td>2.378475</td>\n",
       "      <td>-0.132164</td>\n",
       "      <td>-0.602140</td>\n",
       "      <td>-0.065653</td>\n",
       "      <td>-0.346688</td>\n",
       "      <td>1.039402</td>\n",
       "      <td>-0.322902</td>\n",
       "      <td>-0.175993</td>\n",
       "    </tr>\n",
       "    <tr>\n",
       "      <th>229</th>\n",
       "      <td>-0.580310</td>\n",
       "      <td>1.358321</td>\n",
       "      <td>-0.095357</td>\n",
       "      <td>1.380828</td>\n",
       "      <td>0.732113</td>\n",
       "      <td>-1.258883</td>\n",
       "      <td>-0.046054</td>\n",
       "      <td>-1.291885</td>\n",
       "      <td>-1.085829</td>\n",
       "      <td>0.753257</td>\n",
       "      <td>...</td>\n",
       "      <td>-0.522708</td>\n",
       "      <td>0.420437</td>\n",
       "      <td>-0.420437</td>\n",
       "      <td>-0.132164</td>\n",
       "      <td>-0.602140</td>\n",
       "      <td>-0.065653</td>\n",
       "      <td>-0.346688</td>\n",
       "      <td>1.039402</td>\n",
       "      <td>-0.322902</td>\n",
       "      <td>-0.175993</td>\n",
       "    </tr>\n",
       "    <tr>\n",
       "      <th>230</th>\n",
       "      <td>1.349511</td>\n",
       "      <td>0.158705</td>\n",
       "      <td>-0.056557</td>\n",
       "      <td>1.380828</td>\n",
       "      <td>0.732113</td>\n",
       "      <td>-1.258883</td>\n",
       "      <td>-0.046054</td>\n",
       "      <td>0.653796</td>\n",
       "      <td>0.517116</td>\n",
       "      <td>0.753257</td>\n",
       "      <td>...</td>\n",
       "      <td>-0.522708</td>\n",
       "      <td>0.420437</td>\n",
       "      <td>-0.420437</td>\n",
       "      <td>-0.132164</td>\n",
       "      <td>-0.602140</td>\n",
       "      <td>-0.065653</td>\n",
       "      <td>-0.346688</td>\n",
       "      <td>1.039402</td>\n",
       "      <td>-0.322902</td>\n",
       "      <td>-0.175993</td>\n",
       "    </tr>\n",
       "    <tr>\n",
       "      <th>231</th>\n",
       "      <td>-1.580299</td>\n",
       "      <td>-0.694431</td>\n",
       "      <td>-0.024224</td>\n",
       "      <td>-1.262129</td>\n",
       "      <td>-1.063491</td>\n",
       "      <td>-1.258883</td>\n",
       "      <td>-1.834504</td>\n",
       "      <td>-1.329302</td>\n",
       "      <td>-0.952250</td>\n",
       "      <td>-1.094205</td>\n",
       "      <td>...</td>\n",
       "      <td>-0.522708</td>\n",
       "      <td>0.420437</td>\n",
       "      <td>-0.420437</td>\n",
       "      <td>-0.132164</td>\n",
       "      <td>-0.602140</td>\n",
       "      <td>-0.065653</td>\n",
       "      <td>-0.346688</td>\n",
       "      <td>1.039402</td>\n",
       "      <td>-0.322902</td>\n",
       "      <td>-0.175993</td>\n",
       "    </tr>\n",
       "    <tr>\n",
       "      <th>232</th>\n",
       "      <td>1.463264</td>\n",
       "      <td>0.704560</td>\n",
       "      <td>-0.224691</td>\n",
       "      <td>0.479820</td>\n",
       "      <td>-1.063491</td>\n",
       "      <td>0.207716</td>\n",
       "      <td>-0.940279</td>\n",
       "      <td>1.027966</td>\n",
       "      <td>1.585746</td>\n",
       "      <td>-1.094205</td>\n",
       "      <td>...</td>\n",
       "      <td>-0.522708</td>\n",
       "      <td>0.420437</td>\n",
       "      <td>-0.420437</td>\n",
       "      <td>-0.132164</td>\n",
       "      <td>-0.602140</td>\n",
       "      <td>-0.065653</td>\n",
       "      <td>-0.346688</td>\n",
       "      <td>-0.962091</td>\n",
       "      <td>3.096919</td>\n",
       "      <td>-0.175993</td>\n",
       "    </tr>\n",
       "  </tbody>\n",
       "</table>\n",
       "<p>233 rows × 46 columns</p>\n",
       "</div>"
      ],
      "text/plain": [
       "     eadnr (I)       Age  Preoperatief PSA  Aantal zones positive percentage  \\\n",
       "0    -0.119254 -0.684315         -0.599760                         -0.931759   \n",
       "1    -0.388239  0.259867         -0.462666                         -0.931759   \n",
       "2    -0.337444  0.662830         -0.425159                         -1.096944   \n",
       "3    -1.125094 -3.625609         -0.399292                          0.279596   \n",
       "4     0.761782  1.532826         -0.017757                          1.380828   \n",
       "..         ...       ...               ...                               ...   \n",
       "228   0.172964  0.561247         -0.405112                         -0.271020   \n",
       "229  -0.580310  1.358321         -0.095357                          1.380828   \n",
       "230   1.349511  0.158705         -0.056557                          1.380828   \n",
       "231  -1.580299 -0.694431         -0.024224                         -1.262129   \n",
       "232   1.463264  0.704560         -0.224691                          0.479820   \n",
       "\n",
       "     Primaire Gleason  Secundaire Gleason  Grade group (highest)  \\\n",
       "0           -1.063491            0.207716              -0.940279   \n",
       "1            0.732113           -1.258883              -0.046054   \n",
       "2            0.732113            0.207716               0.848170   \n",
       "3           -1.063491            0.207716              -0.940279   \n",
       "4            0.732113            1.674314               1.742395   \n",
       "..                ...                 ...                    ...   \n",
       "228          0.732113            1.674314               1.742395   \n",
       "229          0.732113           -1.258883              -0.046054   \n",
       "230          0.732113           -1.258883              -0.046054   \n",
       "231         -1.063491           -1.258883              -1.834504   \n",
       "232         -1.063491            0.207716              -0.940279   \n",
       "\n",
       "     Target biopsie Core length (perc)  Target biopsie Core length (mm)  \\\n",
       "0                            -1.703472                        -1.085829   \n",
       "1                            -2.152475                        -1.887301   \n",
       "2                            -1.815722                        -1.620144   \n",
       "3                            -0.730631                        -0.551514   \n",
       "4                             1.289884                         2.387218   \n",
       "..                                 ...                              ...   \n",
       "228                          -1.329302                        -1.352986   \n",
       "229                          -1.291885                        -1.085829   \n",
       "230                           0.653796                         0.517116   \n",
       "231                          -1.329302                        -0.952250   \n",
       "232                           1.027966                         1.585746   \n",
       "\n",
       "     TargetBiopsie Primaire Gleason  ...  \\\n",
       "0                         -1.094205  ...   \n",
       "1                          0.753257  ...   \n",
       "2                          0.753257  ...   \n",
       "3                         -1.094205  ...   \n",
       "4                          0.753257  ...   \n",
       "..                              ...  ...   \n",
       "228                        0.753257  ...   \n",
       "229                        0.753257  ...   \n",
       "230                        0.753257  ...   \n",
       "231                       -1.094205  ...   \n",
       "232                       -1.094205  ...   \n",
       "\n",
       "     1c (0) - Perifeer (1) -  Beide (2) - Transitie (3)3       pN0       pN1  \\\n",
       "0                                             1.913113    0.420437 -0.420437   \n",
       "1                                             1.913113    0.420437 -0.420437   \n",
       "2                                            -0.522708    0.420437 -0.420437   \n",
       "3                                             1.913113    0.420437 -0.420437   \n",
       "4                                            -0.522708    0.420437 -0.420437   \n",
       "..                                                 ...         ...       ...   \n",
       "228                                          -0.522708   -2.378475  2.378475   \n",
       "229                                          -0.522708    0.420437 -0.420437   \n",
       "230                                          -0.522708    0.420437 -0.420437   \n",
       "231                                          -0.522708    0.420437 -0.420437   \n",
       "232                                          -0.522708    0.420437 -0.420437   \n",
       "\n",
       "     cT(MRI)0  cT(MRI)1  cT(MRI)2  cT(MRI)3  cT(MRI)4  cT(MRI)5  cT(MRI)6  \n",
       "0   -0.132164  1.660742 -0.065653 -0.346688 -0.962091 -0.322902 -0.175993  \n",
       "1   -0.132164  1.660742 -0.065653 -0.346688 -0.962091 -0.322902 -0.175993  \n",
       "2   -0.132164 -0.602140 -0.065653 -0.346688  1.039402 -0.322902 -0.175993  \n",
       "3   -0.132164  1.660742 -0.065653 -0.346688 -0.962091 -0.322902 -0.175993  \n",
       "4   -0.132164 -0.602140 -0.065653 -0.346688  1.039402 -0.322902 -0.175993  \n",
       "..        ...       ...       ...       ...       ...       ...       ...  \n",
       "228 -0.132164 -0.602140 -0.065653 -0.346688  1.039402 -0.322902 -0.175993  \n",
       "229 -0.132164 -0.602140 -0.065653 -0.346688  1.039402 -0.322902 -0.175993  \n",
       "230 -0.132164 -0.602140 -0.065653 -0.346688  1.039402 -0.322902 -0.175993  \n",
       "231 -0.132164 -0.602140 -0.065653 -0.346688  1.039402 -0.322902 -0.175993  \n",
       "232 -0.132164 -0.602140 -0.065653 -0.346688 -0.962091  3.096919 -0.175993  \n",
       "\n",
       "[233 rows x 46 columns]"
      ]
     },
     "execution_count": 5,
     "metadata": {},
     "output_type": "execute_result"
    }
   ],
   "source": [
    "# data configuration\n",
    "# preprocessor = DataPreProcessor(data_train)\n",
    "# data_train = preprocessor.preprocess_train_data()\n",
    "# data_train"
   ]
  },
  {
   "cell_type": "markdown",
   "metadata": {},
   "source": [
    "## Train the Model\n",
    "\n",
    "Next, lets define the neural network for generating synthetic data. We will be using a [GAN](https://www.wikiwand.com/en/Generative_adversarial_network) network that comprises of an generator and discriminator that tries to beat each other and in the process learns the vector embedding for the data. \n",
    "\n",
    "The model was taken from a [Github repository](https://github.com/ydataai/gan-playground) where it is used to generate synthetic data on credit card fraud data. "
   ]
  },
  {
   "cell_type": "code",
   "execution_count": 8,
   "metadata": {},
   "outputs": [],
   "source": [
    "#Defining the training parameters\n",
    "noise_dim = 128\n",
    "dim = 128\n",
    "batch_size = 500\n",
    "\n",
    "log_step = 100\n",
    "epochs = 500+1\n",
    "learning_rate = [5e-4, 3e-3]\n",
    "beta_1 = 0.5\n",
    "beta_2 = 0.9\n",
    "models_dir = '../cache'"
   ]
  },
  {
   "cell_type": "code",
   "execution_count": 9,
   "metadata": {},
   "outputs": [],
   "source": [
    "gan_args = ModelParameters(batch_size=batch_size,\n",
    "                           lr=learning_rate,\n",
    "                           betas=(beta_1, beta_2),\n",
    "                           noise_dim=noise_dim,\n",
    "                           layers_dim=dim)\n",
    "\n",
    "train_args = TrainParameters(epochs=epochs,\n",
    "                             sample_interval=log_step)"
   ]
  },
  {
   "cell_type": "code",
   "execution_count": 10,
   "metadata": {},
   "outputs": [],
   "source": [
    "cat_cols = [\"cT(MRI)\",\"Multifocaal\", \"pN\", \"1c (0) - Perifeer (1) -  Beide (2) - Transitie (3)\"]\n",
    "all_cols = set(data_train.columns)\n",
    "cat_cols_set = set(cat_cols)\n",
    "num_cols = list(all_cols - cat_cols_set)"
   ]
  },
  {
   "cell_type": "code",
   "execution_count": 11,
   "metadata": {},
   "outputs": [
    {
     "name": "stderr",
     "output_type": "stream",
     "text": [
      "  1%|          | 5/501 [00:01<01:58,  4.18it/s]"
     ]
    },
    {
     "name": "stdout",
     "output_type": "stream",
     "text": [
      "Epoch: 0 | disc_loss: 154.89808654785156 | gen_loss: 0.02116665244102478\n",
      "Epoch: 1 | disc_loss: 23.838031768798828 | gen_loss: 0.007076869253069162\n",
      "Epoch: 2 | disc_loss: 10.020590782165527 | gen_loss: -0.008013635873794556\n",
      "Epoch: 3 | disc_loss: 4.858347415924072 | gen_loss: -0.005351728294044733\n",
      "Epoch: 4 | disc_loss: 2.4659366607666016 | gen_loss: 0.005319213028997183\n",
      "Epoch: 5 | disc_loss: 1.0621651411056519 | gen_loss: 0.010344383306801319\n"
     ]
    },
    {
     "name": "stderr",
     "output_type": "stream",
     "text": [
      "  3%|▎         | 13/501 [00:01<00:40, 11.95it/s]"
     ]
    },
    {
     "name": "stdout",
     "output_type": "stream",
     "text": [
      "Epoch: 6 | disc_loss: 0.30619165301322937 | gen_loss: 0.026966243982315063\n",
      "Epoch: 7 | disc_loss: 0.24237556755542755 | gen_loss: 0.028512397781014442\n",
      "Epoch: 8 | disc_loss: 0.3821934163570404 | gen_loss: 0.018468476831912994\n",
      "Epoch: 9 | disc_loss: 0.17560745775699615 | gen_loss: 0.036179207265377045\n",
      "Epoch: 10 | disc_loss: 0.2454785853624344 | gen_loss: 0.04628371819853783\n",
      "Epoch: 11 | disc_loss: 0.13471905887126923 | gen_loss: 0.05594369396567345\n",
      "Epoch: 12 | disc_loss: 0.09576588124036789 | gen_loss: 0.052121132612228394\n"
     ]
    },
    {
     "name": "stderr",
     "output_type": "stream",
     "text": [
      "  3%|▎         | 17/501 [00:01<00:31, 15.55it/s]"
     ]
    },
    {
     "name": "stdout",
     "output_type": "stream",
     "text": [
      "Epoch: 13 | disc_loss: -0.003137810155749321 | gen_loss: 0.03494276851415634\n",
      "Epoch: 14 | disc_loss: 0.12553325295448303 | gen_loss: -0.015308575704693794\n",
      "Epoch: 15 | disc_loss: -0.013541042804718018 | gen_loss: 0.04184013977646828\n",
      "Epoch: 16 | disc_loss: 0.41995134949684143 | gen_loss: 0.049044858664274216\n",
      "Epoch: 17 | disc_loss: -0.008960340172052383 | gen_loss: 0.016793236136436462\n",
      "Epoch: 18 | disc_loss: 8.946564674377441 | gen_loss: 0.0013078629272058606\n"
     ]
    },
    {
     "name": "stderr",
     "output_type": "stream",
     "text": [
      "  5%|▍         | 23/501 [00:02<00:24, 19.69it/s]"
     ]
    },
    {
     "name": "stdout",
     "output_type": "stream",
     "text": [
      "Epoch: 19 | disc_loss: 0.7943747043609619 | gen_loss: -0.003571524750441313\n",
      "Epoch: 20 | disc_loss: 5.019010066986084 | gen_loss: 0.033194903284311295\n",
      "Epoch: 21 | disc_loss: 0.31052181124687195 | gen_loss: 0.016161352396011353\n",
      "Epoch: 22 | disc_loss: 0.03179271146655083 | gen_loss: 0.031152112409472466\n",
      "Epoch: 23 | disc_loss: 0.29225587844848633 | gen_loss: 0.017536072060465813\n",
      "Epoch: 24 | disc_loss: 1.4736708402633667 | gen_loss: -0.032108571380376816\n",
      "Epoch: 25 | disc_loss: 3.784080982208252 | gen_loss: 0.01730969548225403\n"
     ]
    },
    {
     "name": "stderr",
     "output_type": "stream",
     "text": [
      "  6%|▌         | 31/501 [00:02<00:18, 24.86it/s]"
     ]
    },
    {
     "name": "stdout",
     "output_type": "stream",
     "text": [
      "Epoch: 26 | disc_loss: 3.045079231262207 | gen_loss: -0.07074563950300217\n",
      "Epoch: 27 | disc_loss: 0.5381671786308289 | gen_loss: 0.16964402794837952\n",
      "Epoch: 28 | disc_loss: -0.007869460619986057 | gen_loss: -0.007828155532479286\n",
      "Epoch: 29 | disc_loss: 0.308030903339386 | gen_loss: 0.09834835678339005\n",
      "Epoch: 30 | disc_loss: 1.0862202644348145 | gen_loss: -0.008239141665399075\n",
      "Epoch: 31 | disc_loss: 0.444205105304718 | gen_loss: 0.033817045390605927\n",
      "Epoch: 32 | disc_loss: 0.09561343491077423 | gen_loss: 0.06695806235074997\n"
     ]
    },
    {
     "name": "stderr",
     "output_type": "stream",
     "text": [
      "  7%|▋         | 37/501 [00:02<00:17, 26.42it/s]"
     ]
    },
    {
     "name": "stdout",
     "output_type": "stream",
     "text": [
      "Epoch: 33 | disc_loss: -0.04966770112514496 | gen_loss: 0.09434926509857178\n",
      "Epoch: 34 | disc_loss: 0.7763639092445374 | gen_loss: -0.14480148255825043\n",
      "Epoch: 35 | disc_loss: 0.3317866027355194 | gen_loss: 0.031093226745724678\n",
      "Epoch: 36 | disc_loss: 0.4824284613132477 | gen_loss: -0.01382588129490614\n",
      "Epoch: 37 | disc_loss: 0.14645437896251678 | gen_loss: 0.06275191903114319\n",
      "Epoch: 38 | disc_loss: 1.0700526237487793 | gen_loss: -0.020094608888030052\n",
      "Epoch: 39 | disc_loss: 0.3919322192668915 | gen_loss: -0.044205088168382645\n"
     ]
    },
    {
     "name": "stderr",
     "output_type": "stream",
     "text": [
      "  9%|▉         | 45/501 [00:02<00:15, 29.12it/s]"
     ]
    },
    {
     "name": "stdout",
     "output_type": "stream",
     "text": [
      "Epoch: 40 | disc_loss: 0.045189019292593 | gen_loss: -0.03208022937178612\n",
      "Epoch: 41 | disc_loss: 0.6785779595375061 | gen_loss: 0.038708530366420746\n",
      "Epoch: 42 | disc_loss: 0.45610710978507996 | gen_loss: -0.048010699450969696\n",
      "Epoch: 43 | disc_loss: 0.26233208179473877 | gen_loss: -0.004405910149216652\n",
      "Epoch: 44 | disc_loss: 0.0894300565123558 | gen_loss: 0.009000439196825027\n",
      "Epoch: 45 | disc_loss: 1.0791089534759521 | gen_loss: -0.01348702609539032\n",
      "Epoch: 46 | disc_loss: 0.6775422096252441 | gen_loss: 0.022446446120738983\n"
     ]
    },
    {
     "name": "stderr",
     "output_type": "stream",
     "text": [
      " 11%|█         | 53/501 [00:03<00:15, 29.24it/s]"
     ]
    },
    {
     "name": "stdout",
     "output_type": "stream",
     "text": [
      "Epoch: 47 | disc_loss: 0.43186843395233154 | gen_loss: -0.021436301991343498\n",
      "Epoch: 48 | disc_loss: 1.2397832870483398 | gen_loss: -0.026572026312351227\n",
      "Epoch: 49 | disc_loss: 0.15437756478786469 | gen_loss: -0.011783353053033352\n",
      "Epoch: 50 | disc_loss: 0.607610821723938 | gen_loss: -0.017551539465785027\n",
      "Epoch: 51 | disc_loss: 0.157049298286438 | gen_loss: -0.09208179265260696\n",
      "Epoch: 52 | disc_loss: 0.8902043700218201 | gen_loss: -0.022321004420518875\n"
     ]
    },
    {
     "name": "stderr",
     "output_type": "stream",
     "text": [
      " 12%|█▏        | 59/501 [00:03<00:15, 28.91it/s]"
     ]
    },
    {
     "name": "stdout",
     "output_type": "stream",
     "text": [
      "Epoch: 53 | disc_loss: -0.0024218233302235603 | gen_loss: -0.049034249037504196\n",
      "Epoch: 54 | disc_loss: 0.15454590320587158 | gen_loss: 0.039884086698293686\n",
      "Epoch: 55 | disc_loss: -0.009625662118196487 | gen_loss: -0.08170448988676071\n",
      "Epoch: 56 | disc_loss: 1.616068720817566 | gen_loss: -0.037680063396692276\n",
      "Epoch: 57 | disc_loss: 0.07088933885097504 | gen_loss: -0.03279571607708931\n",
      "Epoch: 58 | disc_loss: 0.2095387578010559 | gen_loss: -0.039971087127923965\n",
      "Epoch: 59 | disc_loss: 0.7861130237579346 | gen_loss: -0.09486677497625351\n"
     ]
    },
    {
     "name": "stderr",
     "output_type": "stream",
     "text": [
      " 13%|█▎        | 65/501 [00:03<00:14, 29.14it/s]"
     ]
    },
    {
     "name": "stdout",
     "output_type": "stream",
     "text": [
      "Epoch: 60 | disc_loss: 13.134580612182617 | gen_loss: -0.029134482145309448\n",
      "Epoch: 61 | disc_loss: 1.1885403394699097 | gen_loss: -0.00469899782910943\n",
      "Epoch: 62 | disc_loss: 1.4647477865219116 | gen_loss: 0.004494361113756895\n",
      "Epoch: 63 | disc_loss: 0.7992511987686157 | gen_loss: -0.00027649730327539146\n",
      "Epoch: 64 | disc_loss: -0.0517643466591835 | gen_loss: 0.0017624051542952657\n",
      "Epoch: 65 | disc_loss: 0.49963492155075073 | gen_loss: 0.0174085833132267\n",
      "Epoch: 66 | disc_loss: 0.023646622896194458 | gen_loss: -0.0006640612846240401\n"
     ]
    },
    {
     "name": "stderr",
     "output_type": "stream",
     "text": [
      " 14%|█▍        | 71/501 [00:03<00:15, 27.67it/s]"
     ]
    },
    {
     "name": "stdout",
     "output_type": "stream",
     "text": [
      "Epoch: 67 | disc_loss: 1.3895083665847778 | gen_loss: 0.0016863164491951466\n",
      "Epoch: 68 | disc_loss: 0.23219561576843262 | gen_loss: -0.04961850121617317\n",
      "Epoch: 69 | disc_loss: 1.9911812543869019 | gen_loss: 0.08336316049098969\n",
      "Epoch: 70 | disc_loss: 1.005631685256958 | gen_loss: -0.054620161652565\n",
      "Epoch: 71 | disc_loss: 2.445488452911377 | gen_loss: 0.0394698865711689\n",
      "Epoch: 72 | disc_loss: 0.04085042327642441 | gen_loss: 0.018963126465678215\n"
     ]
    },
    {
     "name": "stderr",
     "output_type": "stream",
     "text": [
      " 16%|█▌        | 79/501 [00:04<00:14, 29.41it/s]"
     ]
    },
    {
     "name": "stdout",
     "output_type": "stream",
     "text": [
      "Epoch: 73 | disc_loss: 1.006739854812622 | gen_loss: -0.013194642961025238\n",
      "Epoch: 74 | disc_loss: 1.4356023073196411 | gen_loss: -0.016302265226840973\n",
      "Epoch: 75 | disc_loss: 0.023371227085590363 | gen_loss: -0.006010071374475956\n",
      "Epoch: 76 | disc_loss: 0.42275387048721313 | gen_loss: -0.012045743875205517\n",
      "Epoch: 77 | disc_loss: 0.11938375979661942 | gen_loss: -0.02051703818142414\n",
      "Epoch: 78 | disc_loss: 0.0328826904296875 | gen_loss: -0.020576169714331627\n",
      "Epoch: 79 | disc_loss: -0.025058049708604813 | gen_loss: -0.00916095171123743\n"
     ]
    },
    {
     "name": "stderr",
     "output_type": "stream",
     "text": [
      " 17%|█▋        | 86/501 [00:04<00:13, 29.97it/s]"
     ]
    },
    {
     "name": "stdout",
     "output_type": "stream",
     "text": [
      "Epoch: 80 | disc_loss: 0.7096647024154663 | gen_loss: -0.0073150573298335075\n",
      "Epoch: 81 | disc_loss: 0.5519943237304688 | gen_loss: 0.03966505080461502\n",
      "Epoch: 82 | disc_loss: 1.3287938833236694 | gen_loss: -0.06694704294204712\n",
      "Epoch: 83 | disc_loss: -0.005791733507066965 | gen_loss: -0.06929050385951996\n",
      "Epoch: 84 | disc_loss: 0.5292096734046936 | gen_loss: -0.04242514818906784\n",
      "Epoch: 85 | disc_loss: 0.1324152946472168 | gen_loss: -0.03089558146893978\n",
      "Epoch: 86 | disc_loss: 0.021006036549806595 | gen_loss: -0.028870554640889168\n"
     ]
    },
    {
     "name": "stderr",
     "output_type": "stream",
     "text": [
      " 19%|█▉        | 94/501 [00:04<00:13, 30.44it/s]"
     ]
    },
    {
     "name": "stdout",
     "output_type": "stream",
     "text": [
      "Epoch: 87 | disc_loss: 0.5171317458152771 | gen_loss: -0.038003675639629364\n",
      "Epoch: 88 | disc_loss: 1.9995535612106323 | gen_loss: -0.037463054060935974\n",
      "Epoch: 89 | disc_loss: 4.618632793426514 | gen_loss: -0.04463428258895874\n",
      "Epoch: 90 | disc_loss: 0.8489587306976318 | gen_loss: -0.05401964485645294\n",
      "Epoch: 91 | disc_loss: -0.012851685285568237 | gen_loss: -0.052663423120975494\n",
      "Epoch: 92 | disc_loss: 0.6379655599594116 | gen_loss: -0.054356370121240616\n",
      "Epoch: 93 | disc_loss: 1.0830885171890259 | gen_loss: -0.08075355738401413\n"
     ]
    },
    {
     "name": "stderr",
     "output_type": "stream",
     "text": [
      " 20%|█▉        | 98/501 [00:04<00:13, 30.36it/s]"
     ]
    },
    {
     "name": "stdout",
     "output_type": "stream",
     "text": [
      "Epoch: 94 | disc_loss: 2.5984654426574707 | gen_loss: -0.07393880188465118\n",
      "Epoch: 95 | disc_loss: 0.7693341374397278 | gen_loss: -0.08040028065443039\n",
      "Epoch: 96 | disc_loss: 0.06132719665765762 | gen_loss: -0.12149659544229507\n",
      "Epoch: 97 | disc_loss: 0.30986106395721436 | gen_loss: -0.1016477569937706\n",
      "Epoch: 98 | disc_loss: -0.005551207344979048 | gen_loss: -0.02613096497952938\n",
      "Epoch: 99 | disc_loss: 7.337284088134766 | gen_loss: -0.16477763652801514\n"
     ]
    },
    {
     "name": "stderr",
     "output_type": "stream",
     "text": [
      " 21%|██        | 105/501 [00:04<00:13, 28.84it/s]"
     ]
    },
    {
     "name": "stdout",
     "output_type": "stream",
     "text": [
      "Epoch: 100 | disc_loss: 0.36662203073501587 | gen_loss: -0.17717508971691132\n",
      "Epoch: 101 | disc_loss: 1.3004286289215088 | gen_loss: -0.18103255331516266\n",
      "Epoch: 102 | disc_loss: 0.061067141592502594 | gen_loss: -0.0371219702064991\n",
      "Epoch: 103 | disc_loss: 0.4833090305328369 | gen_loss: -0.06895612925291061\n",
      "Epoch: 104 | disc_loss: 2.8137176036834717 | gen_loss: -0.07682187110185623\n",
      "Epoch: 105 | disc_loss: 0.06358978897333145 | gen_loss: -0.08056510239839554\n"
     ]
    },
    {
     "name": "stderr",
     "output_type": "stream",
     "text": [
      " 22%|██▏       | 111/501 [00:05<00:13, 29.01it/s]"
     ]
    },
    {
     "name": "stdout",
     "output_type": "stream",
     "text": [
      "Epoch: 106 | disc_loss: 0.32967597246170044 | gen_loss: -0.004907289519906044\n",
      "Epoch: 107 | disc_loss: -0.03838896006345749 | gen_loss: 0.001913675805553794\n",
      "Epoch: 108 | disc_loss: 1.2330282926559448 | gen_loss: -0.011916720308363438\n",
      "Epoch: 109 | disc_loss: 0.7013712525367737 | gen_loss: -0.15843670070171356\n",
      "Epoch: 110 | disc_loss: 1.8663617372512817 | gen_loss: -0.015107172541320324\n",
      "Epoch: 111 | disc_loss: 0.221573606133461 | gen_loss: -0.015597550198435783\n",
      "Epoch: 112 | disc_loss: 0.08425401151180267 | gen_loss: 0.006756563205271959\n"
     ]
    },
    {
     "name": "stderr",
     "output_type": "stream",
     "text": [
      " 23%|██▎       | 117/501 [00:05<00:13, 28.89it/s]"
     ]
    },
    {
     "name": "stdout",
     "output_type": "stream",
     "text": [
      "Epoch: 113 | disc_loss: 0.3168482780456543 | gen_loss: 0.018801838159561157\n",
      "Epoch: 114 | disc_loss: 0.7147646546363831 | gen_loss: -0.011007552035152912\n",
      "Epoch: 115 | disc_loss: 0.09342141449451447 | gen_loss: -0.012890148907899857\n",
      "Epoch: 116 | disc_loss: 0.3642008602619171 | gen_loss: -0.06561058759689331\n",
      "Epoch: 117 | disc_loss: 1.4975693225860596 | gen_loss: 0.008500481955707073\n",
      "Epoch: 118 | disc_loss: 0.039725884795188904 | gen_loss: 0.054079748690128326\n"
     ]
    },
    {
     "name": "stderr",
     "output_type": "stream",
     "text": [
      " 25%|██▍       | 123/501 [00:05<00:13, 28.22it/s]"
     ]
    },
    {
     "name": "stdout",
     "output_type": "stream",
     "text": [
      "Epoch: 119 | disc_loss: 0.4032544493675232 | gen_loss: 0.039025526493787766\n",
      "Epoch: 120 | disc_loss: 1.0341053009033203 | gen_loss: -0.06366466730833054\n",
      "Epoch: 121 | disc_loss: 0.9683683514595032 | gen_loss: -0.011823090724647045\n",
      "Epoch: 122 | disc_loss: 0.05768144503235817 | gen_loss: -0.002164109842851758\n",
      "Epoch: 123 | disc_loss: 0.5706808567047119 | gen_loss: -0.0028139064088463783\n",
      "Epoch: 124 | disc_loss: 0.034401748329401016 | gen_loss: 0.0018263630336150527\n"
     ]
    },
    {
     "name": "stderr",
     "output_type": "stream",
     "text": [
      " 26%|██▌       | 129/501 [00:05<00:13, 28.06it/s]"
     ]
    },
    {
     "name": "stdout",
     "output_type": "stream",
     "text": [
      "Epoch: 125 | disc_loss: 0.6670319437980652 | gen_loss: 0.017615145072340965\n",
      "Epoch: 126 | disc_loss: 0.5718855261802673 | gen_loss: 0.025509944185614586\n",
      "Epoch: 127 | disc_loss: 0.3814857006072998 | gen_loss: 0.0015239804051816463\n",
      "Epoch: 128 | disc_loss: 0.7442644834518433 | gen_loss: 0.026694752275943756\n",
      "Epoch: 129 | disc_loss: 1.1568288803100586 | gen_loss: -0.011599181219935417\n",
      "Epoch: 130 | disc_loss: 0.6335453391075134 | gen_loss: 0.0018377151573076844\n",
      "Epoch: 131 | disc_loss: 0.6310920119285583 | gen_loss: -0.0026083607226610184\n"
     ]
    },
    {
     "name": "stderr",
     "output_type": "stream",
     "text": [
      " 27%|██▋       | 136/501 [00:06<00:12, 29.16it/s]"
     ]
    },
    {
     "name": "stdout",
     "output_type": "stream",
     "text": [
      "Epoch: 132 | disc_loss: 1.6147478818893433 | gen_loss: -0.015265258029103279\n",
      "Epoch: 133 | disc_loss: 2.6073508262634277 | gen_loss: -0.024407075718045235\n",
      "Epoch: 134 | disc_loss: 0.2169458568096161 | gen_loss: -0.040676556527614594\n",
      "Epoch: 135 | disc_loss: 0.3290990889072418 | gen_loss: -0.019770249724388123\n",
      "Epoch: 136 | disc_loss: 0.33338382840156555 | gen_loss: -0.012803558260202408\n",
      "Epoch: 137 | disc_loss: 0.1316397339105606 | gen_loss: -0.009517161175608635\n"
     ]
    },
    {
     "name": "stderr",
     "output_type": "stream",
     "text": [
      " 28%|██▊       | 142/501 [00:06<00:12, 28.77it/s]"
     ]
    },
    {
     "name": "stdout",
     "output_type": "stream",
     "text": [
      "Epoch: 138 | disc_loss: -0.017169928178191185 | gen_loss: -0.012654032558202744\n",
      "Epoch: 139 | disc_loss: -0.013065969571471214 | gen_loss: -0.01939031481742859\n",
      "Epoch: 140 | disc_loss: 0.8829030990600586 | gen_loss: 0.00399215891957283\n",
      "Epoch: 141 | disc_loss: 0.7249642014503479 | gen_loss: 0.014418983832001686\n",
      "Epoch: 142 | disc_loss: 1.1917003393173218 | gen_loss: -0.046132661402225494\n",
      "Epoch: 143 | disc_loss: 0.5963985323905945 | gen_loss: -0.0027670192066580057\n"
     ]
    },
    {
     "name": "stderr",
     "output_type": "stream",
     "text": [
      " 30%|██▉       | 148/501 [00:06<00:12, 28.22it/s]"
     ]
    },
    {
     "name": "stdout",
     "output_type": "stream",
     "text": [
      "Epoch: 144 | disc_loss: -0.012003453448414803 | gen_loss: -0.0010276841931045055\n",
      "Epoch: 145 | disc_loss: 2.3346028327941895 | gen_loss: -0.038558103144168854\n",
      "Epoch: 146 | disc_loss: 4.18794059753418 | gen_loss: -0.04235101491212845\n",
      "Epoch: 147 | disc_loss: 3.369297981262207 | gen_loss: -0.01911063678562641\n",
      "Epoch: 148 | disc_loss: 3.3949267864227295 | gen_loss: -0.029821045696735382\n",
      "Epoch: 149 | disc_loss: -0.00015643006190657616 | gen_loss: -0.053401973098516464\n",
      "Epoch: 150 | disc_loss: 1.4866752624511719 | gen_loss: -0.052598413079977036\n"
     ]
    },
    {
     "name": "stderr",
     "output_type": "stream",
     "text": [
      " 31%|███       | 155/501 [00:06<00:12, 28.24it/s]"
     ]
    },
    {
     "name": "stdout",
     "output_type": "stream",
     "text": [
      "Epoch: 151 | disc_loss: -0.008756033144891262 | gen_loss: -0.03603615611791611\n",
      "Epoch: 152 | disc_loss: -0.012091433629393578 | gen_loss: -0.0168711356818676\n",
      "Epoch: 153 | disc_loss: 0.36850693821907043 | gen_loss: 0.014725920744240284\n",
      "Epoch: 154 | disc_loss: 0.36265912652015686 | gen_loss: -0.05088150128722191\n",
      "Epoch: 155 | disc_loss: 2.2360680103302 | gen_loss: -0.0021437308751046658\n",
      "Epoch: 156 | disc_loss: -0.026852348819375038 | gen_loss: -0.0024798938538879156\n"
     ]
    },
    {
     "name": "stderr",
     "output_type": "stream",
     "text": [
      " 32%|███▏      | 161/501 [00:06<00:12, 28.10it/s]"
     ]
    },
    {
     "name": "stdout",
     "output_type": "stream",
     "text": [
      "Epoch: 157 | disc_loss: 0.9163467288017273 | gen_loss: -0.00963645987212658\n",
      "Epoch: 158 | disc_loss: 0.01666906103491783 | gen_loss: -0.015720896422863007\n",
      "Epoch: 159 | disc_loss: 1.014861822128296 | gen_loss: -0.01953226327896118\n",
      "Epoch: 160 | disc_loss: 0.07836224138736725 | gen_loss: -0.008637665770947933\n",
      "Epoch: 161 | disc_loss: 0.3623430132865906 | gen_loss: -0.01250053197145462\n",
      "Epoch: 162 | disc_loss: 3.4871559143066406 | gen_loss: -0.03139648586511612\n",
      "Epoch: 163 | disc_loss: 0.5464726686477661 | gen_loss: -0.039143092930316925\n"
     ]
    },
    {
     "name": "stderr",
     "output_type": "stream",
     "text": [
      " 34%|███▎      | 168/501 [00:07<00:11, 28.86it/s]"
     ]
    },
    {
     "name": "stdout",
     "output_type": "stream",
     "text": [
      "Epoch: 164 | disc_loss: 0.23999890685081482 | gen_loss: -0.0448136143386364\n",
      "Epoch: 165 | disc_loss: 0.04935421049594879 | gen_loss: -0.04914649948477745\n",
      "Epoch: 166 | disc_loss: 0.7414160370826721 | gen_loss: -0.028359560295939445\n",
      "Epoch: 167 | disc_loss: 3.1802966594696045 | gen_loss: -0.010286389850080013\n",
      "Epoch: 168 | disc_loss: 0.004041172098368406 | gen_loss: 0.010301337577402592\n",
      "Epoch: 169 | disc_loss: 2.291248321533203 | gen_loss: -0.0015946583589538932\n"
     ]
    },
    {
     "name": "stderr",
     "output_type": "stream",
     "text": [
      " 35%|███▍      | 174/501 [00:07<00:11, 27.69it/s]"
     ]
    },
    {
     "name": "stdout",
     "output_type": "stream",
     "text": [
      "Epoch: 170 | disc_loss: 1.722795844078064 | gen_loss: 0.0024923309683799744\n",
      "Epoch: 171 | disc_loss: 1.0581002235412598 | gen_loss: -0.006820592563599348\n",
      "Epoch: 172 | disc_loss: 1.0293844938278198 | gen_loss: -0.009526972658932209\n",
      "Epoch: 173 | disc_loss: 3.8115220069885254 | gen_loss: 0.0052889259532094\n",
      "Epoch: 174 | disc_loss: 0.5066965222358704 | gen_loss: 0.0033840383403003216\n",
      "Epoch: 175 | disc_loss: 1.0397859811782837 | gen_loss: -0.010659253224730492\n",
      "Epoch: 176 | disc_loss: 0.8842964768409729 | gen_loss: -0.01766122132539749\n"
     ]
    },
    {
     "name": "stderr",
     "output_type": "stream",
     "text": [
      " 36%|███▌      | 181/501 [00:07<00:11, 28.46it/s]"
     ]
    },
    {
     "name": "stdout",
     "output_type": "stream",
     "text": [
      "Epoch: 177 | disc_loss: 0.12117265164852142 | gen_loss: -0.004706060979515314\n",
      "Epoch: 178 | disc_loss: 1.1226012706756592 | gen_loss: -0.034893449395895004\n",
      "Epoch: 179 | disc_loss: 1.4151816368103027 | gen_loss: -0.03755301237106323\n",
      "Epoch: 180 | disc_loss: 0.5836132168769836 | gen_loss: -0.07434878498315811\n",
      "Epoch: 181 | disc_loss: 0.07835419476032257 | gen_loss: -0.05757143720984459\n",
      "Epoch: 182 | disc_loss: 0.7871218323707581 | gen_loss: -0.03516099974513054\n"
     ]
    },
    {
     "name": "stderr",
     "output_type": "stream",
     "text": [
      " 37%|███▋      | 187/501 [00:07<00:11, 28.39it/s]"
     ]
    },
    {
     "name": "stdout",
     "output_type": "stream",
     "text": [
      "Epoch: 183 | disc_loss: 1.1358036994934082 | gen_loss: -0.020808639004826546\n",
      "Epoch: 184 | disc_loss: 0.3515198826789856 | gen_loss: -0.027310192584991455\n",
      "Epoch: 185 | disc_loss: 0.011899737641215324 | gen_loss: -0.03506297245621681\n",
      "Epoch: 186 | disc_loss: 1.2903543710708618 | gen_loss: -0.07471316307783127\n",
      "Epoch: 187 | disc_loss: 25.294593811035156 | gen_loss: -0.06257649511098862\n",
      "Epoch: 188 | disc_loss: 0.9113307595252991 | gen_loss: -0.06718778610229492\n",
      "Epoch: 189 | disc_loss: -0.003516565077006817 | gen_loss: 0.01779225841164589\n"
     ]
    },
    {
     "name": "stderr",
     "output_type": "stream",
     "text": [
      " 39%|███▊      | 194/501 [00:08<00:10, 29.03it/s]"
     ]
    },
    {
     "name": "stdout",
     "output_type": "stream",
     "text": [
      "Epoch: 190 | disc_loss: 0.3954547643661499 | gen_loss: -0.02515752986073494\n",
      "Epoch: 191 | disc_loss: 0.567406952381134 | gen_loss: -0.006137668155133724\n",
      "Epoch: 192 | disc_loss: -0.039378345012664795 | gen_loss: 0.03940889611840248\n",
      "Epoch: 193 | disc_loss: 0.9661687612533569 | gen_loss: 0.021202873438596725\n",
      "Epoch: 194 | disc_loss: 0.2240457832813263 | gen_loss: 0.00032372286659665406\n",
      "Epoch: 195 | disc_loss: -0.0177481546998024 | gen_loss: 0.016857661306858063\n"
     ]
    },
    {
     "name": "stderr",
     "output_type": "stream",
     "text": [
      " 40%|███▉      | 200/501 [00:08<00:10, 29.24it/s]"
     ]
    },
    {
     "name": "stdout",
     "output_type": "stream",
     "text": [
      "Epoch: 196 | disc_loss: 0.31393691897392273 | gen_loss: 0.015415078029036522\n",
      "Epoch: 197 | disc_loss: 0.2801266014575958 | gen_loss: 0.001483375672250986\n",
      "Epoch: 198 | disc_loss: 0.07873430103063583 | gen_loss: -0.0014519868418574333\n",
      "Epoch: 199 | disc_loss: 0.03367758169770241 | gen_loss: 0.043025027960538864\n",
      "Epoch: 200 | disc_loss: 2.7152631282806396 | gen_loss: 0.0239988062530756\n",
      "Epoch: 201 | disc_loss: 2.137117385864258 | gen_loss: -0.002533565741032362\n"
     ]
    },
    {
     "name": "stderr",
     "output_type": "stream",
     "text": [
      " 41%|████      | 206/501 [00:08<00:10, 28.62it/s]"
     ]
    },
    {
     "name": "stdout",
     "output_type": "stream",
     "text": [
      "Epoch: 202 | disc_loss: 0.3886033296585083 | gen_loss: 0.011746375821530819\n",
      "Epoch: 203 | disc_loss: 0.1405140608549118 | gen_loss: 0.0016243000281974673\n",
      "Epoch: 204 | disc_loss: 0.025025689974427223 | gen_loss: 0.0005470678443089128\n",
      "Epoch: 205 | disc_loss: 1.043575406074524 | gen_loss: 0.02754380740225315\n",
      "Epoch: 206 | disc_loss: 0.5147669315338135 | gen_loss: 0.012117350473999977\n",
      "Epoch: 207 | disc_loss: 0.6546409726142883 | gen_loss: 0.00014932118938304484\n",
      "Epoch: 208 | disc_loss: 0.010433187708258629 | gen_loss: -0.0037378405686467886\n"
     ]
    },
    {
     "name": "stderr",
     "output_type": "stream",
     "text": [
      " 43%|████▎     | 213/501 [00:08<00:10, 27.54it/s]"
     ]
    },
    {
     "name": "stdout",
     "output_type": "stream",
     "text": [
      "Epoch: 209 | disc_loss: 0.2839798331260681 | gen_loss: -0.004975273739546537\n",
      "Epoch: 210 | disc_loss: 0.20941275358200073 | gen_loss: -0.022383863106369972\n",
      "Epoch: 211 | disc_loss: 2.4058845043182373 | gen_loss: -0.02469252608716488\n",
      "Epoch: 212 | disc_loss: 2.7798750400543213 | gen_loss: -0.016738198697566986\n",
      "Epoch: 213 | disc_loss: 0.29096484184265137 | gen_loss: 0.010043558664619923\n",
      "Epoch: 214 | disc_loss: 0.49062544107437134 | gen_loss: 0.007954354397952557\n"
     ]
    },
    {
     "name": "stderr",
     "output_type": "stream",
     "text": [
      " 44%|████▎     | 219/501 [00:08<00:09, 28.55it/s]"
     ]
    },
    {
     "name": "stdout",
     "output_type": "stream",
     "text": [
      "Epoch: 215 | disc_loss: 0.5116604566574097 | gen_loss: 0.028376368805766106\n",
      "Epoch: 216 | disc_loss: -0.02488262765109539 | gen_loss: 0.04123864322900772\n",
      "Epoch: 217 | disc_loss: 1.0667284727096558 | gen_loss: 0.024166207760572433\n",
      "Epoch: 218 | disc_loss: 0.4563451409339905 | gen_loss: 0.03629444167017937\n",
      "Epoch: 219 | disc_loss: 2.4749772548675537 | gen_loss: 0.02172306925058365\n",
      "Epoch: 220 | disc_loss: 1.7294498682022095 | gen_loss: 0.04740108922123909\n"
     ]
    },
    {
     "name": "stderr",
     "output_type": "stream",
     "text": [
      " 46%|████▌     | 228/501 [00:09<00:09, 28.87it/s]"
     ]
    },
    {
     "name": "stdout",
     "output_type": "stream",
     "text": [
      "Epoch: 221 | disc_loss: 2.738337516784668 | gen_loss: 0.04264986515045166\n",
      "Epoch: 222 | disc_loss: 0.41544872522354126 | gen_loss: 0.033124662935733795\n",
      "Epoch: 223 | disc_loss: 0.6681298613548279 | gen_loss: 0.029164694249629974\n",
      "Epoch: 224 | disc_loss: 0.0132649727165699 | gen_loss: 0.04246389865875244\n",
      "Epoch: 225 | disc_loss: 3.5297389030456543 | gen_loss: 0.03132215514779091\n",
      "Epoch: 226 | disc_loss: 4.628387928009033 | gen_loss: 0.034600600600242615\n",
      "Epoch: 227 | disc_loss: 0.6748157143592834 | gen_loss: 0.024719735607504845\n"
     ]
    },
    {
     "name": "stderr",
     "output_type": "stream",
     "text": [
      " 47%|████▋     | 234/501 [00:09<00:09, 27.23it/s]"
     ]
    },
    {
     "name": "stdout",
     "output_type": "stream",
     "text": [
      "Epoch: 228 | disc_loss: -0.0033400277607142925 | gen_loss: 0.013581203296780586\n",
      "Epoch: 229 | disc_loss: 0.28730878233909607 | gen_loss: 0.009716136381030083\n",
      "Epoch: 230 | disc_loss: -0.009819041937589645 | gen_loss: 0.0025293517392128706\n",
      "Epoch: 231 | disc_loss: 0.2399781346321106 | gen_loss: 0.018130198121070862\n",
      "Epoch: 232 | disc_loss: 0.2914779782295227 | gen_loss: 0.0152718061581254\n",
      "Epoch: 233 | disc_loss: -0.02651069685816765 | gen_loss: 0.018542282283306122\n"
     ]
    },
    {
     "name": "stderr",
     "output_type": "stream",
     "text": [
      " 48%|████▊     | 240/501 [00:09<00:09, 27.91it/s]"
     ]
    },
    {
     "name": "stdout",
     "output_type": "stream",
     "text": [
      "Epoch: 234 | disc_loss: 0.029938966035842896 | gen_loss: 0.013315313495695591\n",
      "Epoch: 235 | disc_loss: 14.235015869140625 | gen_loss: 0.0296183992177248\n",
      "Epoch: 236 | disc_loss: 0.2857607901096344 | gen_loss: 0.017209097743034363\n",
      "Epoch: 237 | disc_loss: 1.3905789852142334 | gen_loss: 0.018041830509901047\n",
      "Epoch: 238 | disc_loss: 0.09429274499416351 | gen_loss: 0.004341381601989269\n",
      "Epoch: 239 | disc_loss: -0.0025073480792343616 | gen_loss: -0.0035495164338499308\n",
      "Epoch: 240 | disc_loss: 0.059501513838768005 | gen_loss: -0.012098546139895916\n"
     ]
    },
    {
     "name": "stderr",
     "output_type": "stream",
     "text": [
      " 49%|████▉     | 246/501 [00:09<00:09, 27.94it/s]"
     ]
    },
    {
     "name": "stdout",
     "output_type": "stream",
     "text": [
      "Epoch: 241 | disc_loss: -0.00019182823598384857 | gen_loss: -0.02627834863960743\n",
      "Epoch: 242 | disc_loss: 0.05646468698978424 | gen_loss: -0.020009124651551247\n",
      "Epoch: 243 | disc_loss: 0.8245735764503479 | gen_loss: -0.007984825409948826\n",
      "Epoch: 244 | disc_loss: 0.5428803563117981 | gen_loss: -0.023272348567843437\n",
      "Epoch: 245 | disc_loss: 0.27396446466445923 | gen_loss: -0.03278075531125069\n",
      "Epoch: 246 | disc_loss: 0.05976192653179169 | gen_loss: -0.035490572452545166\n"
     ]
    },
    {
     "name": "stderr",
     "output_type": "stream",
     "text": [
      " 50%|█████     | 252/501 [00:10<00:09, 25.65it/s]"
     ]
    },
    {
     "name": "stdout",
     "output_type": "stream",
     "text": [
      "Epoch: 247 | disc_loss: -0.008995123207569122 | gen_loss: -0.025156749412417412\n",
      "Epoch: 248 | disc_loss: 0.05523230880498886 | gen_loss: 0.025391830131411552\n",
      "Epoch: 249 | disc_loss: 1.3564457893371582 | gen_loss: -0.09245097637176514\n",
      "Epoch: 250 | disc_loss: 0.9478397369384766 | gen_loss: 0.008734040893614292\n",
      "Epoch: 251 | disc_loss: 1.2605429887771606 | gen_loss: 0.0006857016123831272\n"
     ]
    },
    {
     "name": "stderr",
     "output_type": "stream",
     "text": [
      " 51%|█████▏    | 258/501 [00:10<00:09, 26.45it/s]"
     ]
    },
    {
     "name": "stdout",
     "output_type": "stream",
     "text": [
      "Epoch: 252 | disc_loss: 1.2631407976150513 | gen_loss: -0.008160214871168137\n",
      "Epoch: 253 | disc_loss: 0.8671087622642517 | gen_loss: 0.00038188890903256834\n",
      "Epoch: 254 | disc_loss: 0.035598963499069214 | gen_loss: 0.007764605339616537\n",
      "Epoch: 255 | disc_loss: 0.21758174896240234 | gen_loss: 0.014184833504259586\n",
      "Epoch: 256 | disc_loss: 0.08426399528980255 | gen_loss: 0.013849948532879353\n",
      "Epoch: 257 | disc_loss: 0.006361883133649826 | gen_loss: 0.017105722799897194\n"
     ]
    },
    {
     "name": "stderr",
     "output_type": "stream",
     "text": [
      " 53%|█████▎    | 264/501 [00:10<00:08, 26.74it/s]"
     ]
    },
    {
     "name": "stdout",
     "output_type": "stream",
     "text": [
      "Epoch: 258 | disc_loss: -0.012570686638355255 | gen_loss: 0.015051932074129581\n",
      "Epoch: 259 | disc_loss: 0.08202636241912842 | gen_loss: 0.007401018403470516\n",
      "Epoch: 260 | disc_loss: 0.12240099906921387 | gen_loss: 0.00532316230237484\n",
      "Epoch: 261 | disc_loss: -0.01691454090178013 | gen_loss: 0.011366790160536766\n",
      "Epoch: 262 | disc_loss: 0.15227729082107544 | gen_loss: 0.012295633554458618\n",
      "Epoch: 263 | disc_loss: 0.5094092488288879 | gen_loss: 0.009353047236800194\n"
     ]
    },
    {
     "name": "stderr",
     "output_type": "stream",
     "text": [
      " 54%|█████▍    | 270/501 [00:10<00:08, 26.93it/s]"
     ]
    },
    {
     "name": "stdout",
     "output_type": "stream",
     "text": [
      "Epoch: 264 | disc_loss: 0.025878548622131348 | gen_loss: 0.004761010408401489\n",
      "Epoch: 265 | disc_loss: -0.012584332376718521 | gen_loss: 0.007382569834589958\n",
      "Epoch: 266 | disc_loss: 0.005354942753911018 | gen_loss: 0.012475556693971157\n",
      "Epoch: 267 | disc_loss: 1.0672876834869385 | gen_loss: -0.014668515883386135\n",
      "Epoch: 268 | disc_loss: 0.632506251335144 | gen_loss: -0.038297977298498154\n",
      "Epoch: 269 | disc_loss: 2.1936089992523193 | gen_loss: -0.05882029980421066\n"
     ]
    },
    {
     "name": "stderr",
     "output_type": "stream",
     "text": [
      " 54%|█████▍    | 273/501 [00:10<00:08, 27.18it/s]"
     ]
    },
    {
     "name": "stdout",
     "output_type": "stream",
     "text": [
      "Epoch: 270 | disc_loss: 10.288338661193848 | gen_loss: -0.019328411668539047\n",
      "Epoch: 271 | disc_loss: 0.1265658438205719 | gen_loss: -0.002915455959737301\n",
      "Epoch: 272 | disc_loss: 0.01196366362273693 | gen_loss: 0.004813623148947954\n",
      "Epoch: 273 | disc_loss: 0.039049096405506134 | gen_loss: 0.0032170985359698534\n",
      "Epoch: 274 | disc_loss: 0.12516184151172638 | gen_loss: 0.0080447131767869\n"
     ]
    },
    {
     "name": "stderr",
     "output_type": "stream",
     "text": [
      " 56%|█████▌    | 279/501 [00:11<00:08, 27.05it/s]"
     ]
    },
    {
     "name": "stdout",
     "output_type": "stream",
     "text": [
      "Epoch: 275 | disc_loss: 1.0046708583831787 | gen_loss: 0.004767263308167458\n",
      "Epoch: 276 | disc_loss: 0.22196674346923828 | gen_loss: -0.00788072869181633\n",
      "Epoch: 277 | disc_loss: 0.0035739708691835403 | gen_loss: 0.0015122416662052274\n",
      "Epoch: 278 | disc_loss: 0.5327231884002686 | gen_loss: 0.01273280568420887\n",
      "Epoch: 279 | disc_loss: 0.7338708639144897 | gen_loss: -0.01976618729531765\n",
      "Epoch: 280 | disc_loss: 0.04973997920751572 | gen_loss: 0.01236936915665865\n",
      "Epoch: 281 | disc_loss: 0.16263818740844727 | gen_loss: 0.037202391773462296\n"
     ]
    },
    {
     "name": "stderr",
     "output_type": "stream",
     "text": [
      " 57%|█████▋    | 286/501 [00:11<00:07, 28.58it/s]"
     ]
    },
    {
     "name": "stdout",
     "output_type": "stream",
     "text": [
      "Epoch: 282 | disc_loss: 2.052112579345703 | gen_loss: -0.012856044806540012\n",
      "Epoch: 283 | disc_loss: 0.9759823679924011 | gen_loss: -0.02782287262380123\n",
      "Epoch: 284 | disc_loss: 0.3453463315963745 | gen_loss: -0.031119652092456818\n",
      "Epoch: 285 | disc_loss: 1.6843600273132324 | gen_loss: 0.01608208380639553\n",
      "Epoch: 286 | disc_loss: 0.04334363713860512 | gen_loss: 0.0043722945265471935\n",
      "Epoch: 287 | disc_loss: 0.42543232440948486 | gen_loss: -0.0016677908133715391\n"
     ]
    },
    {
     "name": "stderr",
     "output_type": "stream",
     "text": [
      " 58%|█████▊    | 292/501 [00:11<00:07, 27.25it/s]"
     ]
    },
    {
     "name": "stdout",
     "output_type": "stream",
     "text": [
      "Epoch: 288 | disc_loss: 0.009818211197853088 | gen_loss: -0.00385293154977262\n",
      "Epoch: 289 | disc_loss: 0.16161498427391052 | gen_loss: -0.011205652728676796\n",
      "Epoch: 290 | disc_loss: 0.12591572105884552 | gen_loss: -0.021531138569116592\n",
      "Epoch: 291 | disc_loss: 0.10584747046232224 | gen_loss: -0.030970614403486252\n",
      "Epoch: 292 | disc_loss: 0.2306327074766159 | gen_loss: -0.040372155606746674\n",
      "Epoch: 293 | disc_loss: 1.1340312957763672 | gen_loss: -0.029195137321949005\n"
     ]
    },
    {
     "name": "stderr",
     "output_type": "stream",
     "text": [
      " 60%|█████▉    | 299/501 [00:11<00:07, 28.63it/s]"
     ]
    },
    {
     "name": "stdout",
     "output_type": "stream",
     "text": [
      "Epoch: 294 | disc_loss: 0.04952389746904373 | gen_loss: -0.033349115401506424\n",
      "Epoch: 295 | disc_loss: 1.6020033359527588 | gen_loss: -0.012042591348290443\n",
      "Epoch: 296 | disc_loss: 0.7888146638870239 | gen_loss: -0.04111088067293167\n",
      "Epoch: 297 | disc_loss: 0.06341220438480377 | gen_loss: -0.06433335691690445\n",
      "Epoch: 298 | disc_loss: 0.5951217412948608 | gen_loss: -0.06697651743888855\n",
      "Epoch: 299 | disc_loss: 0.6620137095451355 | gen_loss: 0.08734355866909027\n",
      "Epoch: 300 | disc_loss: 2.0852792263031006 | gen_loss: -0.12694264948368073\n"
     ]
    },
    {
     "name": "stderr",
     "output_type": "stream",
     "text": [
      " 61%|██████    | 305/501 [00:12<00:07, 27.35it/s]"
     ]
    },
    {
     "name": "stdout",
     "output_type": "stream",
     "text": [
      "Epoch: 301 | disc_loss: 0.7053212523460388 | gen_loss: -0.0275148656219244\n",
      "Epoch: 302 | disc_loss: 2.266019821166992 | gen_loss: -0.12309539318084717\n",
      "Epoch: 303 | disc_loss: 0.06751909106969833 | gen_loss: -0.12419197708368301\n",
      "Epoch: 304 | disc_loss: 0.9080652594566345 | gen_loss: -0.093173086643219\n",
      "Epoch: 305 | disc_loss: 0.09320861101150513 | gen_loss: -0.08563631772994995\n",
      "Epoch: 306 | disc_loss: 0.06369069963693619 | gen_loss: 0.02593841589987278\n"
     ]
    },
    {
     "name": "stderr",
     "output_type": "stream",
     "text": [
      " 62%|██████▏   | 311/501 [00:12<00:06, 28.34it/s]"
     ]
    },
    {
     "name": "stdout",
     "output_type": "stream",
     "text": [
      "Epoch: 307 | disc_loss: 1.2991161346435547 | gen_loss: -0.22934505343437195\n",
      "Epoch: 308 | disc_loss: 0.6449753046035767 | gen_loss: -0.10569971054792404\n",
      "Epoch: 309 | disc_loss: 1.466951847076416 | gen_loss: -0.08176355063915253\n",
      "Epoch: 310 | disc_loss: 0.13188384473323822 | gen_loss: -0.08165567368268967\n",
      "Epoch: 311 | disc_loss: -0.0053553590551018715 | gen_loss: -0.0694413110613823\n",
      "Epoch: 312 | disc_loss: 0.17674320936203003 | gen_loss: -0.06291916966438293\n"
     ]
    },
    {
     "name": "stderr",
     "output_type": "stream",
     "text": [
      " 63%|██████▎   | 318/501 [00:12<00:06, 29.16it/s]"
     ]
    },
    {
     "name": "stdout",
     "output_type": "stream",
     "text": [
      "Epoch: 313 | disc_loss: 0.08175791054964066 | gen_loss: -0.05092928931117058\n",
      "Epoch: 314 | disc_loss: 0.25727272033691406 | gen_loss: -0.051214005798101425\n",
      "Epoch: 315 | disc_loss: 0.4125900864601135 | gen_loss: -0.04085424169898033\n",
      "Epoch: 316 | disc_loss: -0.042684003710746765 | gen_loss: 0.005311829503625631\n",
      "Epoch: 317 | disc_loss: 2.6303870677948 | gen_loss: -0.05855891481041908\n",
      "Epoch: 318 | disc_loss: 1.293768286705017 | gen_loss: -0.020608749240636826\n",
      "Epoch: 319 | disc_loss: 0.7339091897010803 | gen_loss: -0.04039968550205231\n"
     ]
    },
    {
     "name": "stderr",
     "output_type": "stream",
     "text": [
      " 65%|██████▍   | 325/501 [00:12<00:05, 29.71it/s]"
     ]
    },
    {
     "name": "stdout",
     "output_type": "stream",
     "text": [
      "Epoch: 320 | disc_loss: 0.28382956981658936 | gen_loss: -0.0406230166554451\n",
      "Epoch: 321 | disc_loss: 0.06010774150490761 | gen_loss: -0.038420069962739944\n",
      "Epoch: 322 | disc_loss: 0.5060238838195801 | gen_loss: -0.05150644853711128\n",
      "Epoch: 323 | disc_loss: 0.00976279005408287 | gen_loss: -0.028935864567756653\n",
      "Epoch: 324 | disc_loss: 0.13264581561088562 | gen_loss: -0.0249915923923254\n",
      "Epoch: 325 | disc_loss: 0.6243736147880554 | gen_loss: -0.034421563148498535\n"
     ]
    },
    {
     "name": "stderr",
     "output_type": "stream",
     "text": [
      " 66%|██████▌   | 331/501 [00:12<00:05, 29.20it/s]"
     ]
    },
    {
     "name": "stdout",
     "output_type": "stream",
     "text": [
      "Epoch: 326 | disc_loss: 0.008758939802646637 | gen_loss: -0.04255550727248192\n",
      "Epoch: 327 | disc_loss: -0.018291370943188667 | gen_loss: -0.012967915274202824\n",
      "Epoch: 328 | disc_loss: 3.4057106971740723 | gen_loss: 0.011747505515813828\n",
      "Epoch: 329 | disc_loss: 1.281827688217163 | gen_loss: -0.04759523272514343\n",
      "Epoch: 330 | disc_loss: 1.3100992441177368 | gen_loss: -0.04413355514407158\n",
      "Epoch: 331 | disc_loss: 0.062027379870414734 | gen_loss: -0.0076808142475783825\n",
      "Epoch: 332 | disc_loss: 1.2389620542526245 | gen_loss: 0.0019709006883203983\n"
     ]
    },
    {
     "name": "stderr",
     "output_type": "stream",
     "text": [
      " 67%|██████▋   | 337/501 [00:13<00:05, 27.40it/s]"
     ]
    },
    {
     "name": "stdout",
     "output_type": "stream",
     "text": [
      "Epoch: 333 | disc_loss: 0.5559521913528442 | gen_loss: -0.01019787322729826\n",
      "Epoch: 334 | disc_loss: 0.45139992237091064 | gen_loss: -0.01567341573536396\n",
      "Epoch: 335 | disc_loss: 0.03928723186254501 | gen_loss: -0.024486906826496124\n",
      "Epoch: 336 | disc_loss: 0.3520238697528839 | gen_loss: -0.039235860109329224\n",
      "Epoch: 337 | disc_loss: 0.03270968794822693 | gen_loss: -0.05866141617298126\n",
      "Epoch: 338 | disc_loss: 0.1703544557094574 | gen_loss: -0.043397367000579834\n"
     ]
    },
    {
     "name": "stderr",
     "output_type": "stream",
     "text": [
      " 69%|██████▊   | 344/501 [00:13<00:05, 28.52it/s]"
     ]
    },
    {
     "name": "stdout",
     "output_type": "stream",
     "text": [
      "Epoch: 339 | disc_loss: 1.3823376893997192 | gen_loss: 0.033924650400877\n",
      "Epoch: 340 | disc_loss: 2.547027587890625 | gen_loss: -0.03671380504965782\n",
      "Epoch: 341 | disc_loss: 2.683570623397827 | gen_loss: -0.01325044222176075\n",
      "Epoch: 342 | disc_loss: -0.004614531993865967 | gen_loss: 0.056901149451732635\n",
      "Epoch: 343 | disc_loss: 0.828159511089325 | gen_loss: -0.005908425897359848\n",
      "Epoch: 344 | disc_loss: -0.00035463273525238037 | gen_loss: 0.011170418001711369\n",
      "Epoch: 345 | disc_loss: 2.000678539276123 | gen_loss: 0.04747335985302925\n"
     ]
    },
    {
     "name": "stderr",
     "output_type": "stream",
     "text": [
      " 70%|██████▉   | 350/501 [00:13<00:05, 28.64it/s]"
     ]
    },
    {
     "name": "stdout",
     "output_type": "stream",
     "text": [
      "Epoch: 346 | disc_loss: 0.5092850923538208 | gen_loss: -0.013934177346527576\n",
      "Epoch: 347 | disc_loss: 0.48140695691108704 | gen_loss: -0.011418412439525127\n",
      "Epoch: 348 | disc_loss: -0.018534526228904724 | gen_loss: 0.0054176487028598785\n",
      "Epoch: 349 | disc_loss: 0.781521737575531 | gen_loss: 0.0037201503291726112\n",
      "Epoch: 350 | disc_loss: 0.4700779616832733 | gen_loss: -0.016452161595225334\n",
      "Epoch: 351 | disc_loss: 0.01866673305630684 | gen_loss: -0.02211308665573597\n"
     ]
    },
    {
     "name": "stderr",
     "output_type": "stream",
     "text": [
      " 71%|███████   | 356/501 [00:13<00:05, 28.68it/s]"
     ]
    },
    {
     "name": "stdout",
     "output_type": "stream",
     "text": [
      "Epoch: 352 | disc_loss: 1.2235727310180664 | gen_loss: -0.007818317972123623\n",
      "Epoch: 353 | disc_loss: 0.7331551313400269 | gen_loss: 0.0145852817222476\n",
      "Epoch: 354 | disc_loss: 0.4364638328552246 | gen_loss: 0.012431884184479713\n",
      "Epoch: 355 | disc_loss: 0.008516523987054825 | gen_loss: 0.0002071263297693804\n",
      "Epoch: 356 | disc_loss: 0.1629151999950409 | gen_loss: -0.01408354938030243\n",
      "Epoch: 357 | disc_loss: 0.22396768629550934 | gen_loss: -0.02208130434155464\n"
     ]
    },
    {
     "name": "stderr",
     "output_type": "stream",
     "text": [
      " 72%|███████▏  | 362/501 [00:14<00:04, 29.08it/s]"
     ]
    },
    {
     "name": "stdout",
     "output_type": "stream",
     "text": [
      "Epoch: 358 | disc_loss: 0.02695513144135475 | gen_loss: -0.022083299234509468\n",
      "Epoch: 359 | disc_loss: 0.24143747985363007 | gen_loss: -0.01660168543457985\n",
      "Epoch: 360 | disc_loss: 0.6517732739448547 | gen_loss: -0.027122454717755318\n",
      "Epoch: 361 | disc_loss: 0.04579645022749901 | gen_loss: -0.030206283554434776\n",
      "Epoch: 362 | disc_loss: 0.012673202902078629 | gen_loss: 0.047257546335458755\n",
      "Epoch: 363 | disc_loss: 12.241905212402344 | gen_loss: 0.002680897945538163\n",
      "Epoch: 364 | disc_loss: 1.6574277877807617 | gen_loss: -0.017665190622210503\n"
     ]
    },
    {
     "name": "stderr",
     "output_type": "stream",
     "text": [
      " 74%|███████▍  | 372/501 [00:14<00:04, 29.04it/s]"
     ]
    },
    {
     "name": "stdout",
     "output_type": "stream",
     "text": [
      "Epoch: 365 | disc_loss: 0.09384700655937195 | gen_loss: 0.02640005573630333\n",
      "Epoch: 366 | disc_loss: 1.465196967124939 | gen_loss: 0.06417891383171082\n",
      "Epoch: 367 | disc_loss: 0.2509858310222626 | gen_loss: 0.030151071026921272\n",
      "Epoch: 368 | disc_loss: 0.005866546183824539 | gen_loss: 0.02458598092198372\n",
      "Epoch: 369 | disc_loss: 0.07902636379003525 | gen_loss: 0.03779250383377075\n",
      "Epoch: 370 | disc_loss: 0.42936843633651733 | gen_loss: 0.029772764071822166\n",
      "Epoch: 371 | disc_loss: -0.027811773121356964 | gen_loss: 0.030381599441170692\n"
     ]
    },
    {
     "name": "stderr",
     "output_type": "stream",
     "text": [
      " 75%|███████▌  | 378/501 [00:14<00:04, 29.31it/s]"
     ]
    },
    {
     "name": "stdout",
     "output_type": "stream",
     "text": [
      "Epoch: 372 | disc_loss: -0.013986524194478989 | gen_loss: 0.026255903765559196\n",
      "Epoch: 373 | disc_loss: 0.5063176155090332 | gen_loss: -0.019425326958298683\n",
      "Epoch: 374 | disc_loss: 0.1843402236700058 | gen_loss: -0.03011387586593628\n",
      "Epoch: 375 | disc_loss: 0.038763295859098434 | gen_loss: -0.030683815479278564\n",
      "Epoch: 376 | disc_loss: -0.019486358389258385 | gen_loss: -0.028273694217205048\n",
      "Epoch: 377 | disc_loss: 0.06219838187098503 | gen_loss: -0.018394313752651215\n",
      "Epoch: 378 | disc_loss: 2.1389434337615967 | gen_loss: -0.05009157210588455\n"
     ]
    },
    {
     "name": "stderr",
     "output_type": "stream",
     "text": [
      " 77%|███████▋  | 384/501 [00:14<00:04, 27.88it/s]"
     ]
    },
    {
     "name": "stdout",
     "output_type": "stream",
     "text": [
      "Epoch: 379 | disc_loss: 0.3439866900444031 | gen_loss: -0.048737481236457825\n",
      "Epoch: 380 | disc_loss: 1.7248510122299194 | gen_loss: -0.008276345208287239\n",
      "Epoch: 381 | disc_loss: 1.7770248651504517 | gen_loss: 0.00911474134773016\n",
      "Epoch: 382 | disc_loss: 9.98291015625 | gen_loss: -0.005178811028599739\n",
      "Epoch: 383 | disc_loss: 1.1278271675109863 | gen_loss: -0.01759997196495533\n"
     ]
    },
    {
     "name": "stderr",
     "output_type": "stream",
     "text": [
      " 78%|███████▊  | 390/501 [00:15<00:04, 27.20it/s]"
     ]
    },
    {
     "name": "stdout",
     "output_type": "stream",
     "text": [
      "Epoch: 384 | disc_loss: 0.10258398205041885 | gen_loss: -0.002301751635968685\n",
      "Epoch: 385 | disc_loss: 0.15447281301021576 | gen_loss: 0.0013446896336972713\n",
      "Epoch: 386 | disc_loss: 0.39515793323516846 | gen_loss: -0.01144067756831646\n",
      "Epoch: 387 | disc_loss: 0.0275284294039011 | gen_loss: -0.005743592977523804\n",
      "Epoch: 388 | disc_loss: 0.44102293252944946 | gen_loss: -0.0019945353269577026\n",
      "Epoch: 389 | disc_loss: 0.0326077938079834 | gen_loss: -0.009792518801987171\n"
     ]
    },
    {
     "name": "stderr",
     "output_type": "stream",
     "text": [
      " 79%|███████▉  | 396/501 [00:15<00:03, 27.73it/s]"
     ]
    },
    {
     "name": "stdout",
     "output_type": "stream",
     "text": [
      "Epoch: 390 | disc_loss: -0.00031453470000997186 | gen_loss: -0.015244845300912857\n",
      "Epoch: 391 | disc_loss: -0.022580837830901146 | gen_loss: 0.016563450917601585\n",
      "Epoch: 392 | disc_loss: 2.018444538116455 | gen_loss: 0.050357647240161896\n",
      "Epoch: 393 | disc_loss: 1.2706876993179321 | gen_loss: -0.06817018985748291\n",
      "Epoch: 394 | disc_loss: 0.02424938976764679 | gen_loss: -0.06786833703517914\n",
      "Epoch: 395 | disc_loss: 0.0168464295566082 | gen_loss: -0.06457880139350891\n",
      "Epoch: 396 | disc_loss: 0.7781215906143188 | gen_loss: -0.04242325574159622\n"
     ]
    },
    {
     "name": "stderr",
     "output_type": "stream",
     "text": [
      " 80%|████████  | 402/501 [00:15<00:03, 26.47it/s]"
     ]
    },
    {
     "name": "stdout",
     "output_type": "stream",
     "text": [
      "Epoch: 397 | disc_loss: 0.028157789260149002 | gen_loss: -0.02574746683239937\n",
      "Epoch: 398 | disc_loss: 1.7144728899002075 | gen_loss: -0.04064052551984787\n",
      "Epoch: 399 | disc_loss: 0.8563330173492432 | gen_loss: -0.05153593048453331\n",
      "Epoch: 400 | disc_loss: 0.009832976385951042 | gen_loss: -0.04836772382259369\n",
      "Epoch: 401 | disc_loss: 0.39417052268981934 | gen_loss: -0.05058169737458229\n",
      "Epoch: 402 | disc_loss: 0.03683874011039734 | gen_loss: -0.054504651576280594\n"
     ]
    },
    {
     "name": "stderr",
     "output_type": "stream",
     "text": [
      " 81%|████████▏ | 408/501 [00:15<00:03, 27.19it/s]"
     ]
    },
    {
     "name": "stdout",
     "output_type": "stream",
     "text": [
      "Epoch: 403 | disc_loss: 0.16086798906326294 | gen_loss: -0.05340971052646637\n",
      "Epoch: 404 | disc_loss: 0.5731992721557617 | gen_loss: -0.03897227346897125\n",
      "Epoch: 405 | disc_loss: 0.03240787610411644 | gen_loss: -0.02578767016530037\n",
      "Epoch: 406 | disc_loss: 1.2122737169265747 | gen_loss: 0.005314043257385492\n",
      "Epoch: 407 | disc_loss: 0.009918993338942528 | gen_loss: 0.012479223310947418\n",
      "Epoch: 408 | disc_loss: 0.026367634534835815 | gen_loss: 0.07889210432767868\n"
     ]
    },
    {
     "name": "stderr",
     "output_type": "stream",
     "text": [
      " 83%|████████▎ | 414/501 [00:15<00:03, 27.82it/s]"
     ]
    },
    {
     "name": "stdout",
     "output_type": "stream",
     "text": [
      "Epoch: 409 | disc_loss: 2.508883476257324 | gen_loss: -0.021883675828576088\n",
      "Epoch: 410 | disc_loss: 0.4389302432537079 | gen_loss: -0.023524506017565727\n",
      "Epoch: 411 | disc_loss: 0.4978560507297516 | gen_loss: -0.016318820416927338\n",
      "Epoch: 412 | disc_loss: 0.5009267330169678 | gen_loss: -0.014626222662627697\n",
      "Epoch: 413 | disc_loss: 0.15160955488681793 | gen_loss: -0.020118141546845436\n",
      "Epoch: 414 | disc_loss: 0.04594945162534714 | gen_loss: -0.023019546642899513\n"
     ]
    },
    {
     "name": "stderr",
     "output_type": "stream",
     "text": [
      " 84%|████████▍ | 420/501 [00:16<00:02, 27.92it/s]"
     ]
    },
    {
     "name": "stdout",
     "output_type": "stream",
     "text": [
      "Epoch: 415 | disc_loss: 0.2414350062608719 | gen_loss: -0.018485721200704575\n",
      "Epoch: 416 | disc_loss: 0.012684610672295094 | gen_loss: -0.020574312657117844\n",
      "Epoch: 417 | disc_loss: 0.026763297617435455 | gen_loss: -0.012884854339063168\n",
      "Epoch: 418 | disc_loss: 1.7347896099090576 | gen_loss: -0.04481840878725052\n",
      "Epoch: 419 | disc_loss: 0.05908391624689102 | gen_loss: -0.04776187241077423\n",
      "Epoch: 420 | disc_loss: 0.5583931803703308 | gen_loss: -0.056175656616687775\n"
     ]
    },
    {
     "name": "stderr",
     "output_type": "stream",
     "text": [
      " 85%|████████▌ | 426/501 [00:16<00:02, 26.10it/s]"
     ]
    },
    {
     "name": "stdout",
     "output_type": "stream",
     "text": [
      "Epoch: 421 | disc_loss: 0.36910179257392883 | gen_loss: -0.041629329323768616\n",
      "Epoch: 422 | disc_loss: 4.34279203414917 | gen_loss: -0.012913331389427185\n",
      "Epoch: 423 | disc_loss: 0.04186581075191498 | gen_loss: 0.028910845518112183\n",
      "Epoch: 424 | disc_loss: 1.7500580549240112 | gen_loss: 0.053190357983112335\n",
      "Epoch: 425 | disc_loss: 1.647196888923645 | gen_loss: 0.035380780696868896\n",
      "Epoch: 426 | disc_loss: 0.01023026928305626 | gen_loss: 0.0062269289046525955\n"
     ]
    },
    {
     "name": "stderr",
     "output_type": "stream",
     "text": [
      " 86%|████████▌ | 432/501 [00:16<00:02, 27.37it/s]"
     ]
    },
    {
     "name": "stdout",
     "output_type": "stream",
     "text": [
      "Epoch: 427 | disc_loss: 1.9518685340881348 | gen_loss: -0.003333865897729993\n",
      "Epoch: 428 | disc_loss: 0.17875002324581146 | gen_loss: 0.0040092007257044315\n",
      "Epoch: 429 | disc_loss: 0.10589263588190079 | gen_loss: 0.003453493118286133\n",
      "Epoch: 430 | disc_loss: -0.02258377894759178 | gen_loss: 0.005969526711851358\n",
      "Epoch: 431 | disc_loss: 0.044498611241579056 | gen_loss: 0.0025527384132146835\n",
      "Epoch: 432 | disc_loss: 0.1735842227935791 | gen_loss: -0.003558240132406354\n"
     ]
    },
    {
     "name": "stderr",
     "output_type": "stream",
     "text": [
      " 87%|████████▋ | 438/501 [00:16<00:02, 27.63it/s]"
     ]
    },
    {
     "name": "stdout",
     "output_type": "stream",
     "text": [
      "Epoch: 433 | disc_loss: 0.09283702075481415 | gen_loss: -0.00921092089265585\n",
      "Epoch: 434 | disc_loss: 0.03914593160152435 | gen_loss: -0.016159692779183388\n",
      "Epoch: 435 | disc_loss: 0.021279266104102135 | gen_loss: -0.021909549832344055\n",
      "Epoch: 436 | disc_loss: 0.14141754806041718 | gen_loss: -0.02341955341398716\n",
      "Epoch: 437 | disc_loss: 0.9765323996543884 | gen_loss: -0.02211907133460045\n",
      "Epoch: 438 | disc_loss: 0.4377414584159851 | gen_loss: -0.02493332512676716\n"
     ]
    },
    {
     "name": "stderr",
     "output_type": "stream",
     "text": [
      " 89%|████████▊ | 444/501 [00:16<00:02, 27.62it/s]"
     ]
    },
    {
     "name": "stdout",
     "output_type": "stream",
     "text": [
      "Epoch: 439 | disc_loss: 0.22759652137756348 | gen_loss: -0.01980450376868248\n",
      "Epoch: 440 | disc_loss: 2.753767967224121 | gen_loss: -0.03656849265098572\n",
      "Epoch: 441 | disc_loss: 2.7773938179016113 | gen_loss: -0.041299931704998016\n",
      "Epoch: 442 | disc_loss: 0.3558792173862457 | gen_loss: -0.03640981763601303\n",
      "Epoch: 443 | disc_loss: 0.40096840262413025 | gen_loss: -0.03723794221878052\n",
      "Epoch: 444 | disc_loss: 0.5037350058555603 | gen_loss: -0.0377393402159214\n"
     ]
    },
    {
     "name": "stderr",
     "output_type": "stream",
     "text": [
      " 90%|████████▉ | 450/501 [00:17<00:01, 28.15it/s]"
     ]
    },
    {
     "name": "stdout",
     "output_type": "stream",
     "text": [
      "Epoch: 445 | disc_loss: 0.05784030258655548 | gen_loss: -0.03465386480093002\n",
      "Epoch: 446 | disc_loss: 0.3413683772087097 | gen_loss: 0.009002279490232468\n",
      "Epoch: 447 | disc_loss: 1.6515613794326782 | gen_loss: 0.04746444523334503\n",
      "Epoch: 448 | disc_loss: 0.07589521259069443 | gen_loss: 0.012040296569466591\n",
      "Epoch: 449 | disc_loss: -0.018782975152134895 | gen_loss: 0.014703567139804363\n",
      "Epoch: 450 | disc_loss: 0.06563505530357361 | gen_loss: 0.01579601876437664\n",
      "Epoch: 451 | disc_loss: 0.2164606750011444 | gen_loss: 0.007927436381578445\n"
     ]
    },
    {
     "name": "stderr",
     "output_type": "stream",
     "text": [
      " 91%|█████████ | 456/501 [00:17<00:01, 27.54it/s]"
     ]
    },
    {
     "name": "stdout",
     "output_type": "stream",
     "text": [
      "Epoch: 452 | disc_loss: 0.0365234836935997 | gen_loss: 0.005513459909707308\n",
      "Epoch: 453 | disc_loss: -0.003489309921860695 | gen_loss: 0.008493033237755299\n",
      "Epoch: 454 | disc_loss: 0.02692328579723835 | gen_loss: 0.011631729081273079\n",
      "Epoch: 455 | disc_loss: 0.38401755690574646 | gen_loss: 0.029889998957514763\n",
      "Epoch: 456 | disc_loss: 2.9957897663116455 | gen_loss: -0.04136570170521736\n",
      "Epoch: 457 | disc_loss: 0.16386598348617554 | gen_loss: -0.04547935724258423\n"
     ]
    },
    {
     "name": "stderr",
     "output_type": "stream",
     "text": [
      " 92%|█████████▏| 462/501 [00:17<00:01, 27.47it/s]"
     ]
    },
    {
     "name": "stdout",
     "output_type": "stream",
     "text": [
      "Epoch: 458 | disc_loss: 0.03237683326005936 | gen_loss: -0.06897140294313431\n",
      "Epoch: 459 | disc_loss: 0.2717383801937103 | gen_loss: -0.07653053104877472\n",
      "Epoch: 460 | disc_loss: 1.010793685913086 | gen_loss: -0.05544968321919441\n",
      "Epoch: 461 | disc_loss: 0.6299421191215515 | gen_loss: -0.03879637271165848\n",
      "Epoch: 462 | disc_loss: 0.243231862783432 | gen_loss: -0.08091437071561813\n",
      "Epoch: 463 | disc_loss: 1.4688655138015747 | gen_loss: -0.009635398164391518\n"
     ]
    },
    {
     "name": "stderr",
     "output_type": "stream",
     "text": [
      " 93%|█████████▎| 468/501 [00:17<00:01, 26.28it/s]"
     ]
    },
    {
     "name": "stdout",
     "output_type": "stream",
     "text": [
      "Epoch: 464 | disc_loss: 1.4595693349838257 | gen_loss: -0.03648804500699043\n",
      "Epoch: 465 | disc_loss: 0.4225521981716156 | gen_loss: -0.14574146270751953\n",
      "Epoch: 466 | disc_loss: 0.29700854420661926 | gen_loss: -0.006909848190844059\n",
      "Epoch: 467 | disc_loss: 0.2509347200393677 | gen_loss: 0.20291458070278168\n",
      "Epoch: 468 | disc_loss: 1.7437719106674194 | gen_loss: -0.10932306200265884\n",
      "Epoch: 469 | disc_loss: 0.06574497371912003 | gen_loss: -0.09043735265731812\n"
     ]
    },
    {
     "name": "stderr",
     "output_type": "stream",
     "text": [
      " 95%|█████████▍| 474/501 [00:18<00:01, 26.47it/s]"
     ]
    },
    {
     "name": "stdout",
     "output_type": "stream",
     "text": [
      "Epoch: 470 | disc_loss: 0.11808662861585617 | gen_loss: -0.0747300535440445\n",
      "Epoch: 471 | disc_loss: 0.06785228848457336 | gen_loss: -0.05793130770325661\n",
      "Epoch: 472 | disc_loss: 0.12651178240776062 | gen_loss: -0.047588642686605453\n",
      "Epoch: 473 | disc_loss: 0.29755526781082153 | gen_loss: -0.03651858866214752\n",
      "Epoch: 474 | disc_loss: -8.967891335487366e-05 | gen_loss: -0.009468847885727882\n",
      "Epoch: 475 | disc_loss: 1.6956934928894043 | gen_loss: 0.048507608473300934\n"
     ]
    },
    {
     "name": "stderr",
     "output_type": "stream",
     "text": [
      " 96%|█████████▌| 480/501 [00:18<00:00, 27.24it/s]"
     ]
    },
    {
     "name": "stdout",
     "output_type": "stream",
     "text": [
      "Epoch: 476 | disc_loss: 1.801698923110962 | gen_loss: 0.042416300624608994\n",
      "Epoch: 477 | disc_loss: 1.3563833236694336 | gen_loss: 0.02278740331530571\n",
      "Epoch: 478 | disc_loss: 0.1672523468732834 | gen_loss: 0.020184123888611794\n",
      "Epoch: 479 | disc_loss: 0.13419745862483978 | gen_loss: 0.005371664185076952\n",
      "Epoch: 480 | disc_loss: 0.0617951937019825 | gen_loss: 0.005737508647143841\n",
      "Epoch: 481 | disc_loss: -0.013224298134446144 | gen_loss: 0.020469212904572487\n"
     ]
    },
    {
     "name": "stderr",
     "output_type": "stream",
     "text": [
      " 97%|█████████▋| 486/501 [00:18<00:00, 26.90it/s]"
     ]
    },
    {
     "name": "stdout",
     "output_type": "stream",
     "text": [
      "Epoch: 482 | disc_loss: -0.023431170731782913 | gen_loss: 0.03726255148649216\n",
      "Epoch: 483 | disc_loss: 0.9109468460083008 | gen_loss: 0.03962905332446098\n",
      "Epoch: 484 | disc_loss: -0.02477235347032547 | gen_loss: 0.050765395164489746\n",
      "Epoch: 485 | disc_loss: 0.07701174169778824 | gen_loss: 0.0931580513715744\n",
      "Epoch: 486 | disc_loss: 1.240719199180603 | gen_loss: -0.014393530786037445\n",
      "Epoch: 487 | disc_loss: 1.1591495275497437 | gen_loss: -0.010660856030881405\n"
     ]
    },
    {
     "name": "stderr",
     "output_type": "stream",
     "text": [
      " 98%|█████████▊| 492/501 [00:18<00:00, 26.67it/s]"
     ]
    },
    {
     "name": "stdout",
     "output_type": "stream",
     "text": [
      "Epoch: 488 | disc_loss: 0.5129647254943848 | gen_loss: -0.0012492920504882932\n",
      "Epoch: 489 | disc_loss: -0.02172216959297657 | gen_loss: 0.015344911254942417\n",
      "Epoch: 490 | disc_loss: 1.2531601190567017 | gen_loss: 0.021911663934588432\n",
      "Epoch: 491 | disc_loss: 0.743445634841919 | gen_loss: 0.01802048459649086\n",
      "Epoch: 492 | disc_loss: 0.06627757102251053 | gen_loss: 0.03375391289591789\n"
     ]
    },
    {
     "name": "stderr",
     "output_type": "stream",
     "text": [
      " 99%|█████████▉| 498/501 [00:19<00:00, 24.26it/s]"
     ]
    },
    {
     "name": "stdout",
     "output_type": "stream",
     "text": [
      "Epoch: 493 | disc_loss: 1.0414111614227295 | gen_loss: 0.021798478439450264\n",
      "Epoch: 494 | disc_loss: 1.1340974569320679 | gen_loss: 0.009554839693009853\n",
      "Epoch: 495 | disc_loss: 0.3239552080631256 | gen_loss: 0.011746132746338844\n",
      "Epoch: 496 | disc_loss: 0.4242652356624603 | gen_loss: 0.0018968733493238688\n",
      "Epoch: 497 | disc_loss: 0.31199124455451965 | gen_loss: 0.004981247242540121\n"
     ]
    },
    {
     "name": "stderr",
     "output_type": "stream",
     "text": [
      "100%|██████████| 501/501 [00:19<00:00, 26.11it/s]"
     ]
    },
    {
     "name": "stdout",
     "output_type": "stream",
     "text": [
      "Epoch: 498 | disc_loss: -0.005036406219005585 | gen_loss: 0.030037634074687958\n",
      "Epoch: 499 | disc_loss: 0.17518308758735657 | gen_loss: 0.020460402593016624\n",
      "Epoch: 500 | disc_loss: 0.6948730945587158 | gen_loss: 0.028053199872374535\n"
     ]
    },
    {
     "name": "stderr",
     "output_type": "stream",
     "text": [
      "\n",
      "c:\\Users\\27261\\anaconda3\\envs\\myenv\\lib\\site-packages\\tensorflow\\python\\keras\\utils\\generic_utils.py:494: CustomMaskWarning: Custom mask layers require a config and must override get_config. When loading, the custom mask layer must be passed to the custom_objects argument.\n",
      "  warnings.warn('Custom mask layers require a config and must override '\n"
     ]
    }
   ],
   "source": [
    "synth = RegularSynthesizer(modelname='wgangp', model_parameters=gan_args, n_critic=2)\n",
    "synth.fit(data_train, train_args, num_cols, cat_cols)\n",
    "\n",
    "synth.save('adult_wgangp_model.pkl')"
   ]
  },
  {
   "cell_type": "markdown",
   "metadata": {},
   "source": [
    "## Generate data"
   ]
  },
  {
   "cell_type": "code",
   "execution_count": 12,
   "metadata": {},
   "outputs": [
    {
     "name": "stderr",
     "output_type": "stream",
     "text": [
      "Synthetic data generation: 100%|██████████| 3/3 [00:00<00:00, 177.13it/s]\n"
     ]
    },
    {
     "data": {
      "text/html": [
       "<div>\n",
       "<style scoped>\n",
       "    .dataframe tbody tr th:only-of-type {\n",
       "        vertical-align: middle;\n",
       "    }\n",
       "\n",
       "    .dataframe tbody tr th {\n",
       "        vertical-align: top;\n",
       "    }\n",
       "\n",
       "    .dataframe thead th {\n",
       "        text-align: right;\n",
       "    }\n",
       "</style>\n",
       "<table border=\"1\" class=\"dataframe\">\n",
       "  <thead>\n",
       "    <tr style=\"text-align: right;\">\n",
       "      <th></th>\n",
       "      <th>eadnr (I)</th>\n",
       "      <th>Age</th>\n",
       "      <th>Multifocaal</th>\n",
       "      <th>1c (0) - Perifeer (1) -  Beide (2) - Transitie (3)</th>\n",
       "      <th>Preoperatief PSA</th>\n",
       "      <th>Aantal zones positive percentage</th>\n",
       "      <th>Primaire Gleason</th>\n",
       "      <th>Secundaire Gleason</th>\n",
       "      <th>Grade group (highest)</th>\n",
       "      <th>Target biopsie Core length (perc)</th>\n",
       "      <th>...</th>\n",
       "      <th>Grootste diameter (percentage of tumor)</th>\n",
       "      <th>Grootste mm aantasting (mms)</th>\n",
       "      <th>Primaire</th>\n",
       "      <th>Secundaire</th>\n",
       "      <th>Grade group Grootste mm aantasting</th>\n",
       "      <th>Primaire Gleason.1</th>\n",
       "      <th>Secundaire Gleason.1</th>\n",
       "      <th>Grade Group</th>\n",
       "      <th>pN</th>\n",
       "      <th>cT(MRI)</th>\n",
       "    </tr>\n",
       "  </thead>\n",
       "  <tbody>\n",
       "    <tr>\n",
       "      <th>0</th>\n",
       "      <td>84676824</td>\n",
       "      <td>50.961609</td>\n",
       "      <td>1</td>\n",
       "      <td>2</td>\n",
       "      <td>46.835880</td>\n",
       "      <td>0.527339</td>\n",
       "      <td>4</td>\n",
       "      <td>2</td>\n",
       "      <td>3</td>\n",
       "      <td>60.061768</td>\n",
       "      <td>...</td>\n",
       "      <td>88.971870</td>\n",
       "      <td>4.173984</td>\n",
       "      <td>3</td>\n",
       "      <td>3</td>\n",
       "      <td>2</td>\n",
       "      <td>3</td>\n",
       "      <td>3</td>\n",
       "      <td>2</td>\n",
       "      <td>0</td>\n",
       "      <td>1</td>\n",
       "    </tr>\n",
       "    <tr>\n",
       "      <th>1</th>\n",
       "      <td>85140512</td>\n",
       "      <td>49.929680</td>\n",
       "      <td>1</td>\n",
       "      <td>2</td>\n",
       "      <td>61.010914</td>\n",
       "      <td>0.403266</td>\n",
       "      <td>4</td>\n",
       "      <td>3</td>\n",
       "      <td>3</td>\n",
       "      <td>66.329971</td>\n",
       "      <td>...</td>\n",
       "      <td>72.500710</td>\n",
       "      <td>2.864784</td>\n",
       "      <td>3</td>\n",
       "      <td>3</td>\n",
       "      <td>1</td>\n",
       "      <td>3</td>\n",
       "      <td>3</td>\n",
       "      <td>2</td>\n",
       "      <td>0</td>\n",
       "      <td>4</td>\n",
       "    </tr>\n",
       "    <tr>\n",
       "      <th>2</th>\n",
       "      <td>82776768</td>\n",
       "      <td>51.593681</td>\n",
       "      <td>1</td>\n",
       "      <td>2</td>\n",
       "      <td>74.331558</td>\n",
       "      <td>0.407112</td>\n",
       "      <td>4</td>\n",
       "      <td>3</td>\n",
       "      <td>3</td>\n",
       "      <td>65.345901</td>\n",
       "      <td>...</td>\n",
       "      <td>72.027702</td>\n",
       "      <td>3.719828</td>\n",
       "      <td>2</td>\n",
       "      <td>3</td>\n",
       "      <td>2</td>\n",
       "      <td>3</td>\n",
       "      <td>3</td>\n",
       "      <td>2</td>\n",
       "      <td>0</td>\n",
       "      <td>4</td>\n",
       "    </tr>\n",
       "    <tr>\n",
       "      <th>3</th>\n",
       "      <td>79681856</td>\n",
       "      <td>51.603085</td>\n",
       "      <td>1</td>\n",
       "      <td>2</td>\n",
       "      <td>48.577232</td>\n",
       "      <td>0.329649</td>\n",
       "      <td>4</td>\n",
       "      <td>2</td>\n",
       "      <td>3</td>\n",
       "      <td>55.110153</td>\n",
       "      <td>...</td>\n",
       "      <td>63.349052</td>\n",
       "      <td>4.366672</td>\n",
       "      <td>3</td>\n",
       "      <td>3</td>\n",
       "      <td>2</td>\n",
       "      <td>3</td>\n",
       "      <td>3</td>\n",
       "      <td>2</td>\n",
       "      <td>0</td>\n",
       "      <td>1</td>\n",
       "    </tr>\n",
       "    <tr>\n",
       "      <th>4</th>\n",
       "      <td>91650728</td>\n",
       "      <td>52.424927</td>\n",
       "      <td>1</td>\n",
       "      <td>2</td>\n",
       "      <td>71.156456</td>\n",
       "      <td>0.587035</td>\n",
       "      <td>4</td>\n",
       "      <td>2</td>\n",
       "      <td>3</td>\n",
       "      <td>72.364830</td>\n",
       "      <td>...</td>\n",
       "      <td>93.178192</td>\n",
       "      <td>5.079518</td>\n",
       "      <td>3</td>\n",
       "      <td>3</td>\n",
       "      <td>2</td>\n",
       "      <td>3</td>\n",
       "      <td>3</td>\n",
       "      <td>3</td>\n",
       "      <td>0</td>\n",
       "      <td>4</td>\n",
       "    </tr>\n",
       "    <tr>\n",
       "      <th>...</th>\n",
       "      <td>...</td>\n",
       "      <td>...</td>\n",
       "      <td>...</td>\n",
       "      <td>...</td>\n",
       "      <td>...</td>\n",
       "      <td>...</td>\n",
       "      <td>...</td>\n",
       "      <td>...</td>\n",
       "      <td>...</td>\n",
       "      <td>...</td>\n",
       "      <td>...</td>\n",
       "      <td>...</td>\n",
       "      <td>...</td>\n",
       "      <td>...</td>\n",
       "      <td>...</td>\n",
       "      <td>...</td>\n",
       "      <td>...</td>\n",
       "      <td>...</td>\n",
       "      <td>...</td>\n",
       "      <td>...</td>\n",
       "      <td>...</td>\n",
       "    </tr>\n",
       "    <tr>\n",
       "      <th>228</th>\n",
       "      <td>86623320</td>\n",
       "      <td>49.475887</td>\n",
       "      <td>1</td>\n",
       "      <td>2</td>\n",
       "      <td>77.816917</td>\n",
       "      <td>0.503106</td>\n",
       "      <td>4</td>\n",
       "      <td>3</td>\n",
       "      <td>4</td>\n",
       "      <td>74.210953</td>\n",
       "      <td>...</td>\n",
       "      <td>96.076668</td>\n",
       "      <td>6.584691</td>\n",
       "      <td>2</td>\n",
       "      <td>3</td>\n",
       "      <td>2</td>\n",
       "      <td>3</td>\n",
       "      <td>3</td>\n",
       "      <td>2</td>\n",
       "      <td>0</td>\n",
       "      <td>4</td>\n",
       "    </tr>\n",
       "    <tr>\n",
       "      <th>229</th>\n",
       "      <td>91095632</td>\n",
       "      <td>53.629219</td>\n",
       "      <td>1</td>\n",
       "      <td>2</td>\n",
       "      <td>62.161751</td>\n",
       "      <td>0.531124</td>\n",
       "      <td>4</td>\n",
       "      <td>3</td>\n",
       "      <td>3</td>\n",
       "      <td>77.162560</td>\n",
       "      <td>...</td>\n",
       "      <td>91.371986</td>\n",
       "      <td>4.476023</td>\n",
       "      <td>2</td>\n",
       "      <td>3</td>\n",
       "      <td>2</td>\n",
       "      <td>3</td>\n",
       "      <td>2</td>\n",
       "      <td>2</td>\n",
       "      <td>0</td>\n",
       "      <td>4</td>\n",
       "    </tr>\n",
       "    <tr>\n",
       "      <th>230</th>\n",
       "      <td>84774328</td>\n",
       "      <td>52.749996</td>\n",
       "      <td>1</td>\n",
       "      <td>2</td>\n",
       "      <td>45.923435</td>\n",
       "      <td>0.443878</td>\n",
       "      <td>4</td>\n",
       "      <td>3</td>\n",
       "      <td>3</td>\n",
       "      <td>76.847176</td>\n",
       "      <td>...</td>\n",
       "      <td>78.070107</td>\n",
       "      <td>4.614897</td>\n",
       "      <td>3</td>\n",
       "      <td>3</td>\n",
       "      <td>2</td>\n",
       "      <td>3</td>\n",
       "      <td>3</td>\n",
       "      <td>2</td>\n",
       "      <td>0</td>\n",
       "      <td>4</td>\n",
       "    </tr>\n",
       "    <tr>\n",
       "      <th>231</th>\n",
       "      <td>73967840</td>\n",
       "      <td>48.766918</td>\n",
       "      <td>1</td>\n",
       "      <td>2</td>\n",
       "      <td>53.256252</td>\n",
       "      <td>0.323729</td>\n",
       "      <td>3</td>\n",
       "      <td>3</td>\n",
       "      <td>2</td>\n",
       "      <td>34.650719</td>\n",
       "      <td>...</td>\n",
       "      <td>52.821392</td>\n",
       "      <td>2.717286</td>\n",
       "      <td>2</td>\n",
       "      <td>3</td>\n",
       "      <td>1</td>\n",
       "      <td>3</td>\n",
       "      <td>3</td>\n",
       "      <td>2</td>\n",
       "      <td>0</td>\n",
       "      <td>4</td>\n",
       "    </tr>\n",
       "    <tr>\n",
       "      <th>232</th>\n",
       "      <td>81500184</td>\n",
       "      <td>50.055408</td>\n",
       "      <td>1</td>\n",
       "      <td>2</td>\n",
       "      <td>63.542850</td>\n",
       "      <td>0.428498</td>\n",
       "      <td>4</td>\n",
       "      <td>3</td>\n",
       "      <td>3</td>\n",
       "      <td>62.004131</td>\n",
       "      <td>...</td>\n",
       "      <td>72.887428</td>\n",
       "      <td>4.143359</td>\n",
       "      <td>3</td>\n",
       "      <td>3</td>\n",
       "      <td>1</td>\n",
       "      <td>3</td>\n",
       "      <td>3</td>\n",
       "      <td>2</td>\n",
       "      <td>0</td>\n",
       "      <td>4</td>\n",
       "    </tr>\n",
       "  </tbody>\n",
       "</table>\n",
       "<p>233 rows × 35 columns</p>\n",
       "</div>"
      ],
      "text/plain": [
       "     eadnr (I)        Age Multifocaal  \\\n",
       "0     84676824  50.961609           1   \n",
       "1     85140512  49.929680           1   \n",
       "2     82776768  51.593681           1   \n",
       "3     79681856  51.603085           1   \n",
       "4     91650728  52.424927           1   \n",
       "..         ...        ...         ...   \n",
       "228   86623320  49.475887           1   \n",
       "229   91095632  53.629219           1   \n",
       "230   84774328  52.749996           1   \n",
       "231   73967840  48.766918           1   \n",
       "232   81500184  50.055408           1   \n",
       "\n",
       "    1c (0) - Perifeer (1) -  Beide (2) - Transitie (3)  Preoperatief PSA  \\\n",
       "0                                                    2         46.835880   \n",
       "1                                                    2         61.010914   \n",
       "2                                                    2         74.331558   \n",
       "3                                                    2         48.577232   \n",
       "4                                                    2         71.156456   \n",
       "..                                                 ...               ...   \n",
       "228                                                  2         77.816917   \n",
       "229                                                  2         62.161751   \n",
       "230                                                  2         45.923435   \n",
       "231                                                  2         53.256252   \n",
       "232                                                  2         63.542850   \n",
       "\n",
       "     Aantal zones positive percentage  Primaire Gleason  Secundaire Gleason  \\\n",
       "0                            0.527339                 4                   2   \n",
       "1                            0.403266                 4                   3   \n",
       "2                            0.407112                 4                   3   \n",
       "3                            0.329649                 4                   2   \n",
       "4                            0.587035                 4                   2   \n",
       "..                                ...               ...                 ...   \n",
       "228                          0.503106                 4                   3   \n",
       "229                          0.531124                 4                   3   \n",
       "230                          0.443878                 4                   3   \n",
       "231                          0.323729                 3                   3   \n",
       "232                          0.428498                 4                   3   \n",
       "\n",
       "     Grade group (highest)  Target biopsie Core length (perc)  ...  \\\n",
       "0                        3                          60.061768  ...   \n",
       "1                        3                          66.329971  ...   \n",
       "2                        3                          65.345901  ...   \n",
       "3                        3                          55.110153  ...   \n",
       "4                        3                          72.364830  ...   \n",
       "..                     ...                                ...  ...   \n",
       "228                      4                          74.210953  ...   \n",
       "229                      3                          77.162560  ...   \n",
       "230                      3                          76.847176  ...   \n",
       "231                      2                          34.650719  ...   \n",
       "232                      3                          62.004131  ...   \n",
       "\n",
       "     Grootste diameter (percentage of tumor)  Grootste mm aantasting (mms)  \\\n",
       "0                                  88.971870                      4.173984   \n",
       "1                                  72.500710                      2.864784   \n",
       "2                                  72.027702                      3.719828   \n",
       "3                                  63.349052                      4.366672   \n",
       "4                                  93.178192                      5.079518   \n",
       "..                                       ...                           ...   \n",
       "228                                96.076668                      6.584691   \n",
       "229                                91.371986                      4.476023   \n",
       "230                                78.070107                      4.614897   \n",
       "231                                52.821392                      2.717286   \n",
       "232                                72.887428                      4.143359   \n",
       "\n",
       "     Primaire  Secundaire  Grade group Grootste mm aantasting  \\\n",
       "0           3           3                                   2   \n",
       "1           3           3                                   1   \n",
       "2           2           3                                   2   \n",
       "3           3           3                                   2   \n",
       "4           3           3                                   2   \n",
       "..        ...         ...                                 ...   \n",
       "228         2           3                                   2   \n",
       "229         2           3                                   2   \n",
       "230         3           3                                   2   \n",
       "231         2           3                                   1   \n",
       "232         3           3                                   1   \n",
       "\n",
       "     Primaire Gleason.1  Secundaire Gleason.1  Grade Group  pN  cT(MRI)  \n",
       "0                     3                     3            2   0        1  \n",
       "1                     3                     3            2   0        4  \n",
       "2                     3                     3            2   0        4  \n",
       "3                     3                     3            2   0        1  \n",
       "4                     3                     3            3   0        4  \n",
       "..                  ...                   ...          ...  ..      ...  \n",
       "228                   3                     3            2   0        4  \n",
       "229                   3                     2            2   0        4  \n",
       "230                   3                     3            2   0        4  \n",
       "231                   3                     3            2   0        4  \n",
       "232                   3                     3            2   0        4  \n",
       "\n",
       "[233 rows x 35 columns]"
      ]
     },
     "execution_count": 12,
     "metadata": {},
     "output_type": "execute_result"
    }
   ],
   "source": [
    "synth = RegularSynthesizer.load('adult_wgangp_model.pkl')\n",
    "size = len(data_train)\n",
    "synthetic_data = synth.sample(1000)[0:size]\n",
    "synthetic_data"
   ]
  },
  {
   "cell_type": "code",
   "execution_count": 13,
   "metadata": {},
   "outputs": [
    {
     "data": {
      "image/png": "[encoded data removed]",
      "text/plain": [
       "<Figure size 2000x2000 with 23 Axes>"
      ]
     },
     "metadata": {},
     "output_type": "display_data"
    }
   ],
   "source": [
    "columns = real_data.columns\n",
    "fig, axs = plt.subplots(nrows=8, ncols=3, figsize=(20,20))\n",
    "idx = {0:[0,0],1:[0,1], 2:[0,2], 3:[1,0], 4:[1,1], 5:[1,2], 6:[2,0], 7:[2,1], 8:[2,2], 9:[3,0], 10:[3,1], 11:[3,2], 12:[4,0],\n",
    "      13:[4,1], 14:[4,2], 15:[5,0], 16:[5,1],17:[5,2],18:[6,0],19:[6,1],20:[6,2],21:[7,0],22:[7,1],23:[7,2]}\n",
    "for i in range(1, len(idx)+1):\n",
    "    data = np.column_stack((real_data[columns[i]], synthetic_data[columns[i]]))\n",
    "    axs[idx[i-1][0], idx[i-1][1]].hist(data, density=False, histtype='bar', label=['Real','WGANGP'])\n",
    "    axs[idx[i-1][0], idx[i-1][1]].set_title(columns[i])\n",
    "    axs[idx[i-1][0], idx[i-1][1]].legend()\n",
    "\n",
    "fig.delaxes(axs[7,2])\n",
    "fig.tight_layout(pad=1.1)"
   ]
  },
  {
   "cell_type": "code",
   "execution_count": 14,
   "metadata": {},
   "outputs": [],
   "source": [
    "#Save generated samples\n",
    "synthetic_data.to_csv(SYNTHETIC_FILE, index=False)"
   ]
  },
  {
   "cell_type": "code",
   "execution_count": null,
   "metadata": {},
   "outputs": [],
   "source": []
  }
 ],
 "metadata": {
  "kernelspec": {
   "display_name": "Python 3",
   "language": "python",
   "name": "python3"
  },
  "language_info": {
   "codemirror_mode": {
    "name": "ipython",
    "version": 3
   },
   "file_extension": ".py",
   "mimetype": "text/x-python",
   "name": "python",
   "nbconvert_exporter": "python",
   "pygments_lexer": "ipython3",
   "version": "3.10.13"
  }
 },
 "nbformat": 4,
 "nbformat_minor": 4
}
